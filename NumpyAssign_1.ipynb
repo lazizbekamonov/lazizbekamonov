{
  "nbformat": 4,
  "nbformat_minor": 0,
  "metadata": {
    "colab": {
      "provenance": [],
      "include_colab_link": true
    },
    "kernelspec": {
      "name": "python3",
      "display_name": "Python 3"
    },
    "language_info": {
      "name": "python"
    }
  },
  "cells": [
    {
      "cell_type": "markdown",
      "metadata": {
        "id": "view-in-github",
        "colab_type": "text"
      },
      "source": [
        "<a href=\"https://colab.research.google.com/github/lazizbekamonov/lazizbekamonov/blob/main/NumpyAssign_1.ipynb\" target=\"_parent\"><img src=\"https://colab.research.google.com/assets/colab-badge.svg\" alt=\"Open In Colab\"/></a>"
      ]
    },
    {
      "cell_type": "markdown",
      "source": [
        "# ![Imgur](https://i.imgur.com/5pXzCIu.png)\n",
        "\n",
        "# **DATA SCIENCE VA SUN'IY INTELLEKT PRAKTIKUM**\n",
        "\n",
        "## Ma'lumotlar tahlili. Numpy kutubxonasi.\n",
        "\n",
        "# **1-AMALIY VAZIFA**\n",
        "\n",
        "## N-o'lchamli massivlar yaratish"
      ],
      "metadata": {
        "id": "7GdSfnw5Wr8W"
      }
    },
    {
      "cell_type": "code",
      "execution_count": 1,
      "metadata": {
        "id": "yFwcefXYWqgP"
      },
      "outputs": [],
      "source": [
        "# Numpy kutubxonasini chaqirib olish\n",
        "import numpy as np"
      ]
    },
    {
      "cell_type": "markdown",
      "source": [
        "### Masala(1): 1-o'lchamli massivlar yaratish\n",
        "\n",
        "**Masala sharti :** Elementlari ixtiyoriy  *n* ta  (*n* > 0, butun son) bo'lgan 1-o'lchamli massiv (array) yaratuvchi funksiyani davom ettiring.\n",
        "\n",
        "**Yordam :**  `array` yoki `random` funksiyasidan foydalaning.\n",
        "\n",
        "**Funksiya yaratilishi haqida darslik:** [bog'lanma](https://www.youtube.com/watch?v=_aDyBPYAeyU&list=PLwsopmzfbOn9Lw5D7a26THpBDgAma1Sus&index=22)\n"
      ],
      "metadata": {
        "id": "RZGz3Nb1ZYfN"
      }
    },
    {
      "cell_type": "code",
      "source": [
        "# JAVOBNI SHU YERGA YOZING\n",
        "def one_dim(n):\n",
        "  \"\"\" n ta elementdan tashkil topgan 1-o'lchamli massiv \"\"\"\n",
        "  return np.array(np.random.randint(0, n, size=n))\n",
        "\n",
        "arr=one_dim(7)\n",
        "print(arr)"
      ],
      "metadata": {
        "id": "0IUnLI8_Yhlw",
        "colab": {
          "base_uri": "https://localhost:8080/"
        },
        "outputId": "db5fa58c-c608-46fb-d438-694473bcc979"
      },
      "execution_count": 2,
      "outputs": [
        {
          "output_type": "stream",
          "name": "stdout",
          "text": [
            "[0 6 4 2 0 2 2]\n"
          ]
        }
      ]
    },
    {
      "cell_type": "markdown",
      "source": [
        "### Yuqoridagi yozgan funksiyangizni tekshirish uchun, quyidagi cellni yuriting."
      ],
      "metadata": {
        "id": "I9M8WvVgbmdj"
      }
    },
    {
      "cell_type": "code",
      "source": [
        "#@title Tekshirish (natijada hech qanday xatolik yuz bermasligi kerak)\n",
        "\"\"\"Check that function returns the correct output for several inputs\"\"\"\n",
        "for i in range(1, 10):\n",
        "  assert len(one_dim(i)) == i, f\"n elementlar soni, funksiyada noto'g'ri qo'llanilgan\" # n elementlar soni\n",
        "  arr = one_dim(i) # massiv\n",
        "  assert arr.ndim == 1, f\"1-o'lchamli massiv aniqlanmadi\"# massiv o'lchami\n",
        "  assert type(arr) == np.ndarray, f\"massiv aniqlanmadi\" #numpy array"
      ],
      "metadata": {
        "id": "5-G7c8j-cIpp"
      },
      "execution_count": 3,
      "outputs": []
    },
    {
      "cell_type": "markdown",
      "source": [
        "_____"
      ],
      "metadata": {
        "id": "NxKR_fW0gkkt"
      }
    },
    {
      "cell_type": "markdown",
      "source": [
        "### Masala(2) 2-o'lchamli massivlar yaratish\n",
        "\n",
        "**Masala :** Shakli `shape(r, c)` bo'lgan 2-o'lchamli massiv (array) yaratuvchi funksiyani davom ettiring.  \n",
        "\n",
        "**Yordam :** numpy kutubxonasida massivlar yaratuvchi funksiyalarining istalganidan foydlanishingiz mumkin.\n"
      ],
      "metadata": {
        "id": "qlgbXHwCggjr"
      }
    },
    {
      "cell_type": "code",
      "source": [
        "# JAVOBNI SHU YERGA YOZING\n",
        "def two_dim(r, c):\n",
        "    \"\"\" r ta qator, c ta ustundan tashkil topgan 2-o'lchamli massiv \"\"\"\n",
        "    return np.random.randint(1, 101, size=(r, c))\n",
        "arr1=np.array(two_dim(7, 8))\n",
        "print(arr1)"
      ],
      "metadata": {
        "id": "Cj6xVSfjdmvj",
        "colab": {
          "base_uri": "https://localhost:8080/"
        },
        "outputId": "c86416ea-34d3-4c21-cbc8-bc6db3662058"
      },
      "execution_count": 4,
      "outputs": [
        {
          "output_type": "stream",
          "name": "stdout",
          "text": [
            "[[ 86  95  69  24  11  84  11  77]\n",
            " [ 55   9  35  57  29  77  27  14]\n",
            " [ 86  78  31  43  19  72  85  93]\n",
            " [ 74  67  58  81  76  57  68  75]\n",
            " [ 13  65  37  23  20  41  21  47]\n",
            " [ 10 100  54  80  47  34  83  11]\n",
            " [ 17  43  21  62  13  31  96  97]]\n"
          ]
        }
      ]
    },
    {
      "cell_type": "markdown",
      "source": [
        "### Yuqoridagi yozgan funksiyangizni tekshirish uchun, quyidagi cellni yuriting."
      ],
      "metadata": {
        "id": "x47iG7oZh9WL"
      }
    },
    {
      "cell_type": "code",
      "source": [
        "#@title Tekshirish (natijada hech qanday xatolik yuz bermasligi kerak)\n",
        "\"\"\"Check that function returns the correct output for several inputs\"\"\"\n",
        "arr = two_dim(3, 2) # massiv\n",
        "assert arr.shape == (3, 2), f\"funksiyada, o'lchamlar noto'g'ri qo'llanilgan\" # shape\n",
        "assert arr.ndim == 2, f\"2-o'lchamli massiv aniqlanmadi\" # massiv o'lchami\n",
        "assert type(arr) == np.ndarray, f\"massiv aniqlanmadi\"# #numpy array"
      ],
      "metadata": {
        "id": "kGYbFv7cggMs"
      },
      "execution_count": 5,
      "outputs": []
    }
  ]
}