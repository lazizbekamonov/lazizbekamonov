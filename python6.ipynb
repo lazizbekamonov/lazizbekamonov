{
  "nbformat": 4,
  "nbformat_minor": 0,
  "metadata": {
    "colab": {
      "provenance": [],
      "authorship_tag": "ABX9TyPuFnHMUsj2kiel/IG/YDKT",
      "include_colab_link": true
    },
    "kernelspec": {
      "name": "python3",
      "display_name": "Python 3"
    },
    "language_info": {
      "name": "python"
    }
  },
  "cells": [
    {
      "cell_type": "markdown",
      "metadata": {
        "id": "view-in-github",
        "colab_type": "text"
      },
      "source": [
        "<a href=\"https://colab.research.google.com/github/lazizbekamonov/lazizbekamonov/blob/main/python6.ipynb\" target=\"_parent\"><img src=\"https://colab.research.google.com/assets/colab-badge.svg\" alt=\"Open In Colab\"/></a>"
      ]
    },
    {
      "cell_type": "code",
      "execution_count": 50,
      "metadata": {
        "colab": {
          "base_uri": "https://localhost:8080/"
        },
        "id": "CDNN0YZMyI-z",
        "outputId": "19e9ec99-5691-41cc-85af-a038f47cb95f"
      },
      "outputs": [
        {
          "output_type": "stream",
          "name": "stdout",
          "text": [
            "name:lazizbek\n",
            "yosh:19\n"
          ]
        }
      ],
      "source": [
        "# ummumiy takrorlash\n",
        "# print(\"Salom Dunyo\") and print('Salom Dunyo') str matn kurinishidagi\n",
        "# print(23) int raqam kurinishida\n",
        "# print(24.9) float o'nlik sonlar\n",
        "\n",
        "# input foydalanuvchida malumotlar olish\n",
        "# ism = input(\"Ismingizni kiriting: \")\n",
        "# print(ism.capitalize())\n",
        "# str matn kurinishidagi malumotlar bilan ishlash\n",
        "# lower() and upper() matnni kichik va katta harflar bilan chiqarish\n",
        "# capitalize() Bosh harfni katta harf bilan chiqarish\n",
        "# matn = \"  olma  \"\n",
        "# print(matn.strip())  ortiqcha bo'sh joylarni olib tashlash\n",
        "# matn = \"lazez\"\n",
        "# print(matn.replace(\"e\", \"i\")) harflarni almashterish\n",
        "# ism=\"Lazizbek\"\n",
        "# yosh=17\n",
        "# print(f\"Mening ismim {ism}, yoshim {yosh} da\")  F-STRING\n",
        "# print(\"Mening ismim {}, yoshim {} da\".format(ism, yosh)) .FORMAT()\n",
        "# matn=\"lazizbek\"   (slicing)\n",
        "# matn[0]\n",
        "# matn[0:5]\n",
        "# matn[:5]\n",
        "# matn[5:]\n",
        "# matn=input(\"biror so'z yozing: \")\n",
        "# uzunligi = len(matn)\n",
        "# print(f\"Siz kiritga {matn.upper()} so'z {uzunligi} ta harfdan iborat\")\n",
        "# shart operatorlari\n",
        "# a=int(input(\"son kiritin: \"))\n",
        "# if a % 2 == 0:\n",
        "#   print(f\"{a} juft son\")\n",
        "# else:\n",
        "#   print(f\"{a} toq son\")\n",
        "\n",
        "# a= int(input(\"son kiriting: \"))\n",
        "# b = int(input(\"son kiriting: \"))\n",
        "# if a>5 and b>15:\n",
        "#   print(\"Har ikki shart to'g'ri\")\n",
        "# elif a>15 or b>15:\n",
        "#   print(\"Hech bulmasa beta shart to'g'ri\")\n",
        "# elif not a<5:\n",
        "#   print(\"a 5dan kichik emas\")\n",
        "\n",
        "# Ternar operator\n",
        "\n",
        "# a = int(input(\"Son kiriting: \"))\n",
        "# natija = \"juft\" if a % 2 == 0 else \"toq\"\n",
        "# print(natija)\n",
        "\n",
        "# Ro'yxatlar bilan ishlash\n",
        "# ismlar = []\n",
        "# qizlar_ismlari=['Aziza', \"Anora\", \"Alisa\"]\n",
        "# ismlar.append(\"Azizbek\")\n",
        "\n",
        "# ismlar[0]=\"Asilbek\"\n",
        "# ismlar.extend(qizlar_ismlari)\n",
        "# ismlar.insert(0, \"Olim\")\n",
        "# # print(ismlar[:3])\n",
        "# # print(ismlar[3:])\n",
        "# # print(ismlar[1:4])\n",
        "# ismlar.sort()\n",
        "# # print(len(ismlar))\n",
        "# for ism in ismlar:\n",
        "#   print(ism)\n",
        "\n",
        "\n",
        "# kv=[x**2 for x in range(5)]\n",
        "# print(kv)\n",
        "\n",
        "\n",
        "# def salom_ber(ism):\n",
        "#   print(f\"Salom, {ism}\")\n",
        "\n",
        "# def add(a, b):\n",
        "#   return a+b\n",
        "\n",
        "# def sum_number(*args):\n",
        "#   return sum(args)\n",
        "\n",
        "# print(sum_number(2,3,4,5))\n",
        "\n",
        "def print_info(**kwars):\n",
        "  for key, value in kwars.items():\n",
        "    print(f\"{key}:{value}\")\n",
        "print_info(name=\"lazizbek\", yosh=19)"
      ]
    },
    {
      "cell_type": "code",
      "source": [],
      "metadata": {
        "id": "9xVAhON90nL2"
      },
      "execution_count": 27,
      "outputs": []
    },
    {
      "cell_type": "code",
      "source": [],
      "metadata": {
        "id": "oyRxwYLo6Y5J"
      },
      "execution_count": null,
      "outputs": []
    }
  ]
}