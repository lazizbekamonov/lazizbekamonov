{
  "nbformat": 4,
  "nbformat_minor": 0,
  "metadata": {
    "colab": {
      "provenance": [],
      "authorship_tag": "ABX9TyOwQe6Dcti0ELf9BKsTMown",
      "include_colab_link": true
    },
    "kernelspec": {
      "name": "python3",
      "display_name": "Python 3"
    },
    "language_info": {
      "name": "python"
    }
  },
  "cells": [
    {
      "cell_type": "markdown",
      "metadata": {
        "id": "view-in-github",
        "colab_type": "text"
      },
      "source": [
        "<a href=\"https://colab.research.google.com/github/lazizbekamonov/lazizbekamonov/blob/main/Untitled6.ipynb\" target=\"_parent\"><img src=\"https://colab.research.google.com/assets/colab-badge.svg\" alt=\"Open In Colab\"/></a>"
      ]
    },
    {
      "cell_type": "markdown",
      "source": [
        "1. Kalkulyator Funksiyasi\n",
        "\n",
        "Foydalanuvchidan ikkita son va amal (qo‘shish, ayirish, ko‘paytirish, bo‘lish) so‘rab, natijani qaytaradigan funksiya yozing.\n",
        "\n",
        "2. Faktorialni Hisoblash\n",
        "\n",
        "Foydalanuvchidan sonni kiritishni so‘rashingiz va kiritilgan sonning faktorialini hisoblaydigan funksiya yozing.\n",
        "\n",
        "3. Teskari Matn Funksiyasi\n",
        "\n",
        "Foydalanuvchidan matn kiritishni so‘rashingiz va ushbu matnni teskari qaytaradigan funksiya yozing.\n",
        "\n",
        "4. Sonning Musbat yoki Manfiyligini Tekshirish\n",
        "\n",
        "Foydalanuvchidan sonni kiritishni so‘rashingiz va uning musbat yoki manfiyligini aniqlovchi funksiya yozing.\n",
        "\n",
        "5. Eng Katta Sonni Topish\n",
        "\n",
        "Foydalanuvchidan ikkita yoki undan ortiq son kiritishni so‘rashingiz va eng katta sonni qaytaradigan funksiya yozing.\n",
        "\n",
        "6. Sonni To‘liq Bo‘linishini Tekshirish\n",
        "\n",
        "Foydalanuvchidan ikkita sonni kiritishni so‘rashingiz va birinchi son ikkinchisiga to‘liq bo‘linishini tekshirib, natijani qaytaradigan funksiya yozing.\n",
        "\n",
        "7. So‘z Uzunligini Hisoblash\n",
        "\n",
        "Foydalanuvchidan so‘z kiritishni so‘rashingiz va uning uzunligini hisoblaydigan funksiya yozing.\n",
        "\n",
        "8. Aksincha Sonni Hisoblash\n",
        "\n",
        "Foydalanuvchidan son kiritishni so‘rashingiz va uni aksincha (manfiy bo‘lsa musbat, musbat bo‘lsa manfiy) qilish funksiyasini yozing.\n",
        "\n",
        "9. Palindromni Tekshirish\n",
        "\n",
        "Foydalanuvchidan matn kiritishni so‘rashingiz va bu matn palindrom (ya'ni, o‘qishda oldindan va orqadan bir xil) ekanligini tekshiradigan funksiya yozing.\n",
        "\n",
        "10. Yuqori va Kichik Harflarni Hisoblash\n",
        "\n",
        "Foydalanuvchidan matn kiritishni so‘rashingiz va undagi katta va kichik harflarning sonini hisoblaydigan funksiya yozing.\n",
        "\n",
        "11. Yuzaga Keladigan Sonlar Ro‘yxatini Topish\n",
        "\n",
        "Foydalanuvchidan boshlang‘ich va tugash sonlarini so‘rashingiz va ularning orasidagi butun sonlarning ro‘yxatini qaytaradigan funksiya yozing.\n",
        "\n",
        "12. Amallarni Bajarish Funksiyasi\n",
        "\n",
        "Foydalanuvchidan ikkita son va amalni (qo‘shish, ayirish, ko‘paytirish yoki bo‘lish) tanlashni so‘rab, natijani qaytaradigan funksiya yozing.\n",
        "\n",
        "13. Kvadratni Hisoblash\n",
        "\n",
        "Foydalanuvchidan son kiritishni so‘rashingiz va uning kvadratini hisoblaydigan funksiya yozing.\n",
        "\n",
        "14. Arifmetik O‘rtani Hisoblash\n",
        "\n",
        "Foydalanuvchidan sonlarni kiritishni so‘rashingiz va ular orasidagi arifmetik o‘rtani hisoblaydigan funksiya yozing.\n",
        "\n",
        "15. Bo‘linuvchi Sonlarni Topish\n",
        "\n",
        "Foydalanuvchidan ikkita sonni kiritishni so‘rashingiz va birinchi sonni ikkinchisiga bo‘linadigan sonlarni aniqlovchi funksiya yozing.\n",
        "\n",
        "16. Vaqtni Formatlash\n",
        "\n",
        "Foydalanuvchidan vaqtni (soat, daqiqa, soniya) kiritishni so‘rashingiz va uni soat:daqiqalar:soniya formatida qaytaradigan funksiya yozing.\n",
        "\n",
        "17. Toq yoki Juft Sonni Tekshirish\n",
        "\n",
        "Foydalanuvchidan son kiritishni so‘rashingiz va uning toq yoki juft ekanligini aniqlovchi funksiya yozing.\n",
        "\n",
        "18. Yuqori Harfga O‘tkazish\n",
        "\n",
        "Foydalanuvchidan matn kiritishni so‘rashingiz va ushbu matnni faqat katta harflarga o‘zgartirish funksiyasini yozing.\n",
        "\n",
        "19. Qator Elementlarini Qo‘shish\n",
        "\n",
        "Foydalanuvchidan raqamli qator (ro‘yxat) kiritishni so‘rashingiz va uning barcha elementlarini qo‘shadigan funksiya yozing.\n",
        "\n",
        "20. O‘zgarmas Ro‘yxatdagi Maxsus Elementni Qidirish\n",
        "\n",
        "Foydalanuvchidan o‘zgarmas ro‘yxat va qidirilayotgan elementni kiritishni so‘rashingiz va uning ro‘yxatda mavjud yoki yo‘qligini aniqlovchi funksiya yozing."
      ],
      "metadata": {
        "id": "O-JteSlEancV"
      }
    },
    {
      "cell_type": "markdown",
      "source": [
        "Kalkulyator Funksiyasi\n",
        "Foydalanuvchidan ikkita son va amal (qo‘shish, ayirish, ko‘paytirish, bo‘lish) so‘rab, natijani qaytaradigan funksiya yozing."
      ],
      "metadata": {
        "id": "pkYVVPm5bp3Z"
      }
    },
    {
      "cell_type": "code",
      "execution_count": 6,
      "metadata": {
        "colab": {
          "base_uri": "https://localhost:8080/"
        },
        "id": "-XsdoEhwalLz",
        "outputId": "088874b2-2720-4d15-9bc3-03b23ffa3a66"
      },
      "outputs": [
        {
          "output_type": "stream",
          "name": "stdout",
          "text": [
            "BIRINCHI SONNI KIRITING: 67\n",
            "IKKINCHI SONNI KIRITING: 98\n",
            "+, -, *, /?\n",
            "? noto'g'ri amal +, -, *, / ishorasini kiriting:\n"
          ]
        }
      ],
      "source": [
        "def calkulyator():\n",
        "  son1=float(input(\"BIRINCHI SONNI KIRITING: \"))\n",
        "  son2=float(input(\"IKKINCHI SONNI KIRITING: \"))\n",
        "  amal=input(\"+, -, *, /\")\n",
        "  if amal==\"+\":\n",
        "    return son1+son2\n",
        "  elif amal==\"-\":\n",
        "    return son1-son2\n",
        "  elif amal==\"*\":\n",
        "    return son1*son2\n",
        "  elif amal==\"/\":\n",
        "    return son1/son2\n",
        "  else:\n",
        "    print(f\"{amal} noto'g'ri amal +, -, *, / ishorasini kiriting:\")\n",
        "calkulyator()"
      ]
    },
    {
      "cell_type": "markdown",
      "source": [
        "Faktorialni Hisoblash\n",
        "Foydalanuvchidan sonni kiritishni so‘rashingiz va kiritilgan sonning faktorialini hisoblaydigan funksiya yozing."
      ],
      "metadata": {
        "id": "1EInfTU8ehyk"
      }
    },
    {
      "cell_type": "code",
      "source": [
        "def faktorial(son):\n",
        "\n",
        "  if son==1 or son==0:\n",
        "    return 1\n",
        "  else:\n",
        "    return son * faktorial(son-1)\n",
        "son=int(input(\"Son kiriting: \"))\n",
        "faktorial(son)"
      ],
      "metadata": {
        "colab": {
          "base_uri": "https://localhost:8080/"
        },
        "id": "jB4GxJmzdqbu",
        "outputId": "580adf4e-ef39-4fb8-f3f1-c2347af95377"
      },
      "execution_count": 15,
      "outputs": [
        {
          "name": "stdout",
          "output_type": "stream",
          "text": [
            "Son kiriting: 4\n"
          ]
        },
        {
          "output_type": "execute_result",
          "data": {
            "text/plain": [
              "24"
            ]
          },
          "metadata": {},
          "execution_count": 15
        }
      ]
    },
    {
      "cell_type": "markdown",
      "source": [
        "Teskari Matn Funksiyasi\n",
        "Foydalanuvchidan matn kiritishni so‘rashingiz va ushbu matnni teskari qaytaradigan funksiya yozing."
      ],
      "metadata": {
        "id": "kxmP3vMyggah"
      }
    },
    {
      "cell_type": "code",
      "source": [
        "def teskari(matn):\n",
        "  return matn[::-1]"
      ],
      "metadata": {
        "id": "_vp8ou7hfLFB"
      },
      "execution_count": 16,
      "outputs": []
    },
    {
      "cell_type": "code",
      "source": [
        "teskari(\"lazizbek\")"
      ],
      "metadata": {
        "colab": {
          "base_uri": "https://localhost:8080/",
          "height": 35
        },
        "id": "sx0ojwUkgyz2",
        "outputId": "c9bab216-0d78-48b0-b70f-25f95258549f"
      },
      "execution_count": 17,
      "outputs": [
        {
          "output_type": "execute_result",
          "data": {
            "text/plain": [
              "'kebzizal'"
            ],
            "application/vnd.google.colaboratory.intrinsic+json": {
              "type": "string"
            }
          },
          "metadata": {},
          "execution_count": 17
        }
      ]
    },
    {
      "cell_type": "markdown",
      "source": [
        "Sonning Musbat yoki Manfiyligini Tekshirish\n",
        "Foydalanuvchidan sonni kiritishni so‘rashingiz va uning musbat yoki manfiyligini aniqlovchi funksiya yozing."
      ],
      "metadata": {
        "id": "-BnSr7wAhJcF"
      }
    },
    {
      "cell_type": "code",
      "source": [
        "def aniqlsh(son):\n",
        "  if son==0:\n",
        "    print(f\"Siz {son} raqamini kiritingiz\")\n",
        "  elif son<0:\n",
        "    return f\"{son} Manfiy son\"\n",
        "  elif son>0:\n",
        "    return f\"{son} Musbat son\"\n",
        "  else:\n",
        "    return f\"{son} bu son emas\""
      ],
      "metadata": {
        "id": "hFatL9hwg2o-"
      },
      "execution_count": 18,
      "outputs": []
    },
    {
      "cell_type": "code",
      "source": [
        "aniqlsh(98)"
      ],
      "metadata": {
        "colab": {
          "base_uri": "https://localhost:8080/",
          "height": 35
        },
        "id": "IO4CvoxBiGE-",
        "outputId": "fcdd249d-d0b0-43dc-fe2d-cdce1a3088ac"
      },
      "execution_count": 24,
      "outputs": [
        {
          "output_type": "execute_result",
          "data": {
            "text/plain": [
              "'98 Musbat son'"
            ],
            "application/vnd.google.colaboratory.intrinsic+json": {
              "type": "string"
            }
          },
          "metadata": {},
          "execution_count": 24
        }
      ]
    },
    {
      "cell_type": "markdown",
      "source": [
        "Eng Katta Sonni Topish\n",
        "Foydalanuvchidan ikkita yoki undan ortiq son kiritishni so‘rashingiz va eng katta sonni qaytaradigan funksiya yozing"
      ],
      "metadata": {
        "id": "Yi9b88yni2V3"
      }
    },
    {
      "cell_type": "code",
      "source": [
        "def katta_son(*sonlar):\n",
        "  return max(sonlar)\n",
        "katta_son(13412, 345656, 42424, 61414)"
      ],
      "metadata": {
        "colab": {
          "base_uri": "https://localhost:8080/"
        },
        "id": "dILbLep4iIeX",
        "outputId": "22b4f4a3-b37a-4a39-a52d-9aee24d12eae"
      },
      "execution_count": 26,
      "outputs": [
        {
          "output_type": "execute_result",
          "data": {
            "text/plain": [
              "345656"
            ]
          },
          "metadata": {},
          "execution_count": 26
        }
      ]
    },
    {
      "cell_type": "markdown",
      "source": [
        "Sonni To‘liq Bo‘linishini Tekshirish\n",
        "Foydalanuvchidan ikkita sonni kiritishni so‘rashingiz va birinchi son ikkinchisiga to‘liq bo‘linishini tekshirib, natijani qaytaradigan funksiya yozing.\n",
        "\n"
      ],
      "metadata": {
        "id": "5WG1tfOcj9Jz"
      }
    },
    {
      "cell_type": "code",
      "source": [
        "def bulish(son1, son2):\n",
        "  return son1 % son2 == 0"
      ],
      "metadata": {
        "id": "48YpYem-jbZa"
      },
      "execution_count": 27,
      "outputs": []
    },
    {
      "cell_type": "code",
      "source": [
        "bulish(12, 4)"
      ],
      "metadata": {
        "colab": {
          "base_uri": "https://localhost:8080/"
        },
        "id": "tO6g9d9_kXMc",
        "outputId": "a83c0d73-e55f-4854-9d47-e3eb124ceade"
      },
      "execution_count": 29,
      "outputs": [
        {
          "output_type": "execute_result",
          "data": {
            "text/plain": [
              "True"
            ]
          },
          "metadata": {},
          "execution_count": 29
        }
      ]
    },
    {
      "cell_type": "markdown",
      "source": [
        "So‘z Uzunligini Hisoblash\n",
        "Foydalanuvchidan so‘z kiritishni so‘rashingiz va uning uzunligini hisoblaydigan funksiya yozing."
      ],
      "metadata": {
        "id": "UB0kS_c_kwLl"
      }
    },
    {
      "cell_type": "code",
      "source": [
        "def uzunli_aniqlash(soz):\n",
        "  return len(soz)\n",
        "uzunli_aniqlash(\"osmon\")"
      ],
      "metadata": {
        "colab": {
          "base_uri": "https://localhost:8080/"
        },
        "id": "15VnsW1zkcA6",
        "outputId": "4758ee86-0e68-4e85-b804-efcf46c12d7a"
      },
      "execution_count": 31,
      "outputs": [
        {
          "output_type": "execute_result",
          "data": {
            "text/plain": [
              "5"
            ]
          },
          "metadata": {},
          "execution_count": 31
        }
      ]
    },
    {
      "cell_type": "markdown",
      "source": [
        "Aksincha Sonni Hisoblash\n",
        "Foydalanuvchidan son kiritishni so‘rashingiz va uni aksincha (manfiy bo‘lsa musbat, musbat bo‘lsa manfiy) qilish funksiyasini yozing.\n",
        "\n"
      ],
      "metadata": {
        "id": "R6FkdppLnUHc"
      }
    },
    {
      "cell_type": "code",
      "source": [
        "def teskar_qiymat(son):\n",
        "  return -son"
      ],
      "metadata": {
        "id": "SMGaJwMkm0w4"
      },
      "execution_count": 32,
      "outputs": []
    },
    {
      "cell_type": "code",
      "source": [
        "teskar_qiymat(-8)"
      ],
      "metadata": {
        "colab": {
          "base_uri": "https://localhost:8080/"
        },
        "id": "OD4bfIY7ngcF",
        "outputId": "3ec39d02-bdd5-44d0-8973-14ceb867f70d"
      },
      "execution_count": 36,
      "outputs": [
        {
          "output_type": "execute_result",
          "data": {
            "text/plain": [
              "8"
            ]
          },
          "metadata": {},
          "execution_count": 36
        }
      ]
    },
    {
      "cell_type": "markdown",
      "source": [
        "Palindromni Tekshirish\n",
        "Foydalanuvchidan matn kiritishni so‘rashingiz va bu matn palindrom (ya'ni, o‘qishda oldindan va orqadan bir xil) ekanligini tekshiradigan funksiya yozing."
      ],
      "metadata": {
        "id": "UqZ8TYOPoRh6"
      }
    },
    {
      "cell_type": "code",
      "source": [
        "def palindrom(matn):\n",
        "  return matn == matn[::-1]"
      ],
      "metadata": {
        "id": "Q6MhT53enlpi"
      },
      "execution_count": 37,
      "outputs": []
    },
    {
      "cell_type": "code",
      "source": [
        "palindrom(\"aziza\")"
      ],
      "metadata": {
        "colab": {
          "base_uri": "https://localhost:8080/"
        },
        "id": "naZIGS50ogb4",
        "outputId": "78bc33d2-109d-4c14-a1d9-8e672283a313"
      },
      "execution_count": 41,
      "outputs": [
        {
          "output_type": "execute_result",
          "data": {
            "text/plain": [
              "True"
            ]
          },
          "metadata": {},
          "execution_count": 41
        }
      ]
    },
    {
      "cell_type": "markdown",
      "source": [
        "Yuqori va Kichik Harflarni Hisoblash\n",
        "Foydalanuvchidan matn kiritishni so‘rashingiz va undagi katta va kichik harflarning sonini hisoblaydigan funksiya yozing.\n",
        "\n"
      ],
      "metadata": {
        "id": "Xyje2DBypniL"
      }
    },
    {
      "cell_type": "code",
      "source": [
        "def katta_kichik(matn):\n",
        "  katta=sum(1 for harf in matn if harf.isupper())\n",
        "  kichik=sum(1 for harf in matn if harf.islower())\n",
        "  return katta, kichik"
      ],
      "metadata": {
        "id": "vspgnQ9ZokAF"
      },
      "execution_count": 42,
      "outputs": []
    },
    {
      "cell_type": "code",
      "source": [
        "katta_kichik(\"lAZizBeKAmoNov\")"
      ],
      "metadata": {
        "colab": {
          "base_uri": "https://localhost:8080/"
        },
        "id": "LOFwdpbwqg4s",
        "outputId": "199dcbac-60ea-4048-dafc-740864152269"
      },
      "execution_count": 44,
      "outputs": [
        {
          "output_type": "execute_result",
          "data": {
            "text/plain": [
              "(6, 8)"
            ]
          },
          "metadata": {},
          "execution_count": 44
        }
      ]
    },
    {
      "cell_type": "markdown",
      "source": [
        "Yuzaga Keladigan Sonlar Ro‘yxatini Topish\n",
        "Foydalanuvchidan boshlang‘ich va tugash sonlarini so‘rashingiz va ularning orasidagi butun sonlarning ro‘yxatini qaytaradigan funksiya yozing."
      ],
      "metadata": {
        "id": "4AG4EUrLrn4v"
      }
    },
    {
      "cell_type": "code",
      "source": [
        "def ruyxat(a, b):\n",
        "  return list(range(a, b+1))"
      ],
      "metadata": {
        "id": "1kdDAn5zqpNK"
      },
      "execution_count": 45,
      "outputs": []
    },
    {
      "cell_type": "code",
      "source": [
        "ruyxat(6, 8)"
      ],
      "metadata": {
        "colab": {
          "base_uri": "https://localhost:8080/"
        },
        "id": "BoWhAOQQsCB3",
        "outputId": "8bfa1c49-80ca-4fe2-c1fa-85bb60ff4191"
      },
      "execution_count": 46,
      "outputs": [
        {
          "output_type": "execute_result",
          "data": {
            "text/plain": [
              "[6, 7, 8]"
            ]
          },
          "metadata": {},
          "execution_count": 46
        }
      ]
    },
    {
      "cell_type": "markdown",
      "source": [
        "Kvadratni Hisoblash\n",
        "Foydalanuvchidan son kiritishni so‘rashingiz va uning kvadratini hisoblaydigan funksiya yozing."
      ],
      "metadata": {
        "id": "FjXMidzeseJh"
      }
    },
    {
      "cell_type": "code",
      "source": [
        "def kvadrat(son):\n",
        "  return son ** 2"
      ],
      "metadata": {
        "id": "nuIFFFF8sG6h"
      },
      "execution_count": 47,
      "outputs": []
    },
    {
      "cell_type": "code",
      "source": [
        "kvadrat(34822)"
      ],
      "metadata": {
        "colab": {
          "base_uri": "https://localhost:8080/"
        },
        "id": "Rnc-3oxDsolZ",
        "outputId": "1aa68b6c-57ef-47cc-873b-6083293cc666"
      },
      "execution_count": 48,
      "outputs": [
        {
          "output_type": "execute_result",
          "data": {
            "text/plain": [
              "1212571684"
            ]
          },
          "metadata": {},
          "execution_count": 48
        }
      ]
    },
    {
      "cell_type": "code",
      "source": [
        "kvadrat(2)"
      ],
      "metadata": {
        "colab": {
          "base_uri": "https://localhost:8080/"
        },
        "id": "2vEnZNfCsskD",
        "outputId": "d7dd6603-e51a-46d3-cfd2-48a55a31077c"
      },
      "execution_count": 49,
      "outputs": [
        {
          "output_type": "execute_result",
          "data": {
            "text/plain": [
              "4"
            ]
          },
          "metadata": {},
          "execution_count": 49
        }
      ]
    },
    {
      "cell_type": "markdown",
      "source": [
        "Vaqtni Formatlash\n",
        "Foydalanuvchidan vaqtni (soat, daqiqa, soniya) kiritishni so‘rashingiz va uni soat:daqiqalar:soniya formatida qaytaradigan funksiya yozing.\n",
        "\n"
      ],
      "metadata": {
        "id": "vgkODcdctcli"
      }
    },
    {
      "cell_type": "code",
      "source": [
        "def vatq_format(soat, daqiqa, soniya):\n",
        "  return f\"{soat:02}:{daqiqa:02}:{soniya:02}\""
      ],
      "metadata": {
        "id": "FMgANhupsvkn"
      },
      "execution_count": 50,
      "outputs": []
    },
    {
      "cell_type": "code",
      "source": [
        "vatq_format(12, 60, 34)"
      ],
      "metadata": {
        "colab": {
          "base_uri": "https://localhost:8080/",
          "height": 35
        },
        "id": "Iaccwp6gt8B5",
        "outputId": "69801c54-7884-447d-ee19-b620e4a64607"
      },
      "execution_count": 51,
      "outputs": [
        {
          "output_type": "execute_result",
          "data": {
            "text/plain": [
              "'12:60:34'"
            ],
            "application/vnd.google.colaboratory.intrinsic+json": {
              "type": "string"
            }
          },
          "metadata": {},
          "execution_count": 51
        }
      ]
    },
    {
      "cell_type": "markdown",
      "source": [
        "Toq yoki Juft Sonni Tekshirish\n",
        "Foydalanuvchidan son kiritishni so‘rashingiz va uning toq yoki juft ekanligini aniqlovchi funksiya yozing.\n",
        "\n"
      ],
      "metadata": {
        "id": "D7zgzudZuiAN"
      }
    },
    {
      "cell_type": "code",
      "source": [
        "def toq_juft(son):\n",
        "  return \"Juft\" if son % 2 == 0  else \"Toq\""
      ],
      "metadata": {
        "id": "3cNMh6hXuDyc"
      },
      "execution_count": 52,
      "outputs": []
    },
    {
      "cell_type": "code",
      "source": [
        "toq_juft(6888689875864753730)"
      ],
      "metadata": {
        "colab": {
          "base_uri": "https://localhost:8080/",
          "height": 35
        },
        "id": "bdSYVANWu_VI",
        "outputId": "58a72e98-370d-4383-874a-5ff1b01d94c2"
      },
      "execution_count": 54,
      "outputs": [
        {
          "output_type": "execute_result",
          "data": {
            "text/plain": [
              "'Juft'"
            ],
            "application/vnd.google.colaboratory.intrinsic+json": {
              "type": "string"
            }
          },
          "metadata": {},
          "execution_count": 54
        }
      ]
    },
    {
      "cell_type": "markdown",
      "source": [
        "Qator Elementlarini Qo‘shish\n",
        "Foydalanuvchidan raqamli qator (ro‘yxat) kiritishni so‘rashingiz va uning barcha elementlarini qo‘shadigan funksiya yozing.\n",
        "\n"
      ],
      "metadata": {
        "id": "69A7-eKDvsqk"
      }
    },
    {
      "cell_type": "code",
      "source": [
        "def qator(qator):\n",
        "  return sum(qator)"
      ],
      "metadata": {
        "id": "UX5OCK-8vCsj"
      },
      "execution_count": 55,
      "outputs": []
    },
    {
      "cell_type": "code",
      "source": [
        "sonlar=[9, 8, 9, 7, 6]\n",
        "qator(sonlar)"
      ],
      "metadata": {
        "colab": {
          "base_uri": "https://localhost:8080/"
        },
        "id": "1uN5KFDfv9L2",
        "outputId": "f6417083-2acd-4436-a551-99956ab53f60"
      },
      "execution_count": 56,
      "outputs": [
        {
          "output_type": "execute_result",
          "data": {
            "text/plain": [
              "39"
            ]
          },
          "metadata": {},
          "execution_count": 56
        }
      ]
    },
    {
      "cell_type": "markdown",
      "source": [
        "O‘zgarmas Ro‘yxatdagi Maxsus Elementni Qidirish\n",
        "Foydalanuvchidan o‘zgarmas ro‘yxat va qidirilayotgan elementni kiritishni so‘rashingiz va uning ro‘yxatda mavjud yoki yo‘qligini aniqlovchi funksiya yozing."
      ],
      "metadata": {
        "id": "y58hoQ9iwkVJ"
      }
    },
    {
      "cell_type": "code",
      "source": [
        "def qidirish(royxat, element):\n",
        "  return element in royxat"
      ],
      "metadata": {
        "id": "m97K4RqnwI9G"
      },
      "execution_count": 57,
      "outputs": []
    },
    {
      "cell_type": "code",
      "source": [
        "mevalar=[\"olma\", \"anor\", \"apelsin\", \"anjir\", \"shaftoli\"]\n",
        "qidirish(mevalar, \"ananas\")"
      ],
      "metadata": {
        "colab": {
          "base_uri": "https://localhost:8080/"
        },
        "id": "h449J9jyxaMp",
        "outputId": "ba3d59fd-f135-4577-f743-8174cb6e9a77"
      },
      "execution_count": 59,
      "outputs": [
        {
          "output_type": "execute_result",
          "data": {
            "text/plain": [
              "False"
            ]
          },
          "metadata": {},
          "execution_count": 59
        }
      ]
    },
    {
      "cell_type": "code",
      "source": [],
      "metadata": {
        "id": "hAXbbjicx3RT"
      },
      "execution_count": null,
      "outputs": []
    }
  ]
}