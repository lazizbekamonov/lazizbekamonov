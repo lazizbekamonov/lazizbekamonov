{
  "nbformat": 4,
  "nbformat_minor": 0,
  "metadata": {
    "colab": {
      "provenance": [],
      "authorship_tag": "ABX9TyOBAJN1jeXtGafYqgPmbXW8",
      "include_colab_link": true
    },
    "kernelspec": {
      "name": "python3",
      "display_name": "Python 3"
    },
    "language_info": {
      "name": "python"
    }
  },
  "cells": [
    {
      "cell_type": "markdown",
      "metadata": {
        "id": "view-in-github",
        "colab_type": "text"
      },
      "source": [
        "<a href=\"https://colab.research.google.com/github/lazizbekamonov/lazizbekamonov/blob/main/python7.ipynb\" target=\"_parent\"><img src=\"https://colab.research.google.com/assets/colab-badge.svg\" alt=\"Open In Colab\"/></a>"
      ]
    },
    {
      "cell_type": "markdown",
      "source": [
        "# while sikli"
      ],
      "metadata": {
        "id": "Eo9bZmG4KERe"
      }
    },
    {
      "cell_type": "code",
      "execution_count": 3,
      "metadata": {
        "id": "Q33TwGX_JzUF"
      },
      "outputs": [],
      "source": [
        "# Asosiy sintaksis\n",
        "# while shart:\n",
        "# Kodlar\n"
      ]
    },
    {
      "cell_type": "code",
      "source": [
        "# Oddiy misol\n",
        "son = 1\n",
        "while son<=5:\n",
        "  print(son)\n",
        "  son+=1"
      ],
      "metadata": {
        "colab": {
          "base_uri": "https://localhost:8080/"
        },
        "id": "PcC24XdLKj6f",
        "outputId": "935a20bb-7640-410a-97fb-4895915fa971"
      },
      "execution_count": 4,
      "outputs": [
        {
          "output_type": "stream",
          "name": "stdout",
          "text": [
            "1\n",
            "2\n",
            "3\n",
            "4\n",
            "5\n"
          ]
        }
      ]
    },
    {
      "cell_type": "code",
      "source": [
        "# misol\n",
        "son = 1\n",
        "while son<3:\n",
        "  print(son)\n",
        "  son+=1\n",
        "else:\n",
        "  print(\"Tugadi!\")"
      ],
      "metadata": {
        "colab": {
          "base_uri": "https://localhost:8080/"
        },
        "id": "XGGIS0rsLheT",
        "outputId": "06017736-af8e-47e6-8e31-14af8dd0e9de"
      },
      "execution_count": 5,
      "outputs": [
        {
          "output_type": "stream",
          "name": "stdout",
          "text": [
            "1\n",
            "2\n",
            "Tugadi!\n"
          ]
        }
      ]
    },
    {
      "cell_type": "code",
      "source": [
        "# break\n",
        "son=3\n",
        "while son<=10:\n",
        "  if son==6:\n",
        "    break\n",
        "\n",
        "  print(son)\n",
        "  son+=1"
      ],
      "metadata": {
        "colab": {
          "base_uri": "https://localhost:8080/"
        },
        "id": "gD6Fl3nSMAtY",
        "outputId": "4a610cf6-c6b6-45a3-b576-ad8ec6e7e5f6"
      },
      "execution_count": 6,
      "outputs": [
        {
          "output_type": "stream",
          "name": "stdout",
          "text": [
            "3\n",
            "4\n",
            "5\n"
          ]
        }
      ]
    },
    {
      "cell_type": "code",
      "source": [
        "# continue\n",
        "son = 0\n",
        "while son < 5:\n",
        "  son+=1\n",
        "  if son == 3:\n",
        "    continue\n",
        "  print(son)"
      ],
      "metadata": {
        "colab": {
          "base_uri": "https://localhost:8080/"
        },
        "id": "xudZw3ayNdaV",
        "outputId": "43e944bd-d4f3-4589-f692-4595ee1e8534"
      },
      "execution_count": 7,
      "outputs": [
        {
          "output_type": "stream",
          "name": "stdout",
          "text": [
            "1\n",
            "2\n",
            "4\n",
            "5\n"
          ]
        }
      ]
    },
    {
      "cell_type": "code",
      "source": [
        "son = 5\n",
        "while son > 4 :\n",
        "  son+=1\n",
        "  print(son)"
      ],
      "metadata": {
        "colab": {
          "base_uri": "https://localhost:8080/"
        },
        "id": "Fmrus3ocN8Q4",
        "outputId": "75f1c44b-94e5-4e0f-960f-f20256c8bbea"
      },
      "execution_count": 1,
      "outputs": [
        {
          "output_type": "stream",
          "name": "stdout",
          "text": [
            "6\n"
          ]
        }
      ]
    },
    {
      "cell_type": "code",
      "source": [
        "# Infinirte loop misoli:\n",
        "while True:\n",
        "  javob=input(\"Yana davom etsenmi! (ha/yuq)\")\n",
        "  if javob==\"yuq\":\n",
        "    break"
      ],
      "metadata": {
        "colab": {
          "base_uri": "https://localhost:8080/"
        },
        "id": "w8bSdktIO9KT",
        "outputId": "154adf8b-0625-4b3a-962a-8707e16ce8e7"
      },
      "execution_count": 2,
      "outputs": [
        {
          "name": "stdout",
          "output_type": "stream",
          "text": [
            "Yana davom etsenmi! (ha/yuq)ha\n",
            "Yana davom etsenmi! (ha/yuq)ha\n",
            "Yana davom etsenmi! (ha/yuq)ha\n",
            "Yana davom etsenmi! (ha/yuq)ha\n",
            "Yana davom etsenmi! (ha/yuq)ha\n",
            "Yana davom etsenmi! (ha/yuq)yuq\n"
          ]
        }
      ]
    },
    {
      "cell_type": "code",
      "source": [],
      "metadata": {
        "id": "fYwN6ixdQL2P"
      },
      "execution_count": null,
      "outputs": []
    }
  ]
}