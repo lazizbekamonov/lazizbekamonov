{
  "nbformat": 4,
  "nbformat_minor": 0,
  "metadata": {
    "colab": {
      "provenance": [],
      "include_colab_link": true
    },
    "kernelspec": {
      "name": "python3",
      "display_name": "Python 3"
    },
    "language_info": {
      "name": "python"
    }
  },
  "cells": [
    {
      "cell_type": "markdown",
      "metadata": {
        "id": "view-in-github",
        "colab_type": "text"
      },
      "source": [
        "<a href=\"https://colab.research.google.com/github/lazizbekamonov/lazizbekamonov/blob/main/1_AMALIYOT.ipynb\" target=\"_parent\"><img src=\"https://colab.research.google.com/assets/colab-badge.svg\" alt=\"Open In Colab\"/></a>"
      ]
    },
    {
      "cell_type": "markdown",
      "source": [
        "# ![Imgur](https://i.imgur.com/5pXzCIu.png)\n",
        "\n",
        "# **DATA SCIENCE VA SUN'IY INTELLEKT PRAKTIKUM**\n",
        "\n",
        "## Ma'lumotlar tahlili. Numpy kutubxonasi.\n",
        "\n",
        "# **1-AMALIY VAZIFA**\n",
        "\n",
        "## N-o'lchamli massivlar yaratish"
      ],
      "metadata": {
        "id": "7GdSfnw5Wr8W"
      }
    },
    {
      "cell_type": "code",
      "execution_count": 1,
      "metadata": {
        "id": "yFwcefXYWqgP"
      },
      "outputs": [],
      "source": [
        "# Numpy kutubxonasini chaqirib olish\n",
        "import numpy as np"
      ]
    },
    {
      "cell_type": "markdown",
      "source": [
        "### Masala(1): 1-o'lchamli massivlar yaratish\n",
        "\n",
        "**Masala sharti :** Elementlari ixtiyoriy  *n* ta  (*n* > 0, butun son) bo'lgan 1-o'lchamli massiv (array) yaratuvchi funksiyani davom ettiring.\n",
        "\n",
        "**Yordam :**  `array` yoki `random` funksiyasidan foydalaning.\n",
        "\n",
        "**Funksiya yaratilishi haqida darslik:** [bog'lanma](https://www.youtube.com/watch?v=_aDyBPYAeyU&list=PLwsopmzfbOn9Lw5D7a26THpBDgAma1Sus&index=22)\n"
      ],
      "metadata": {
        "id": "RZGz3Nb1ZYfN"
      }
    },
    {
      "cell_type": "code",
      "source": [
        "# JAVOBNI\n",
        "def one_dim(n):\n",
        "  \"\"\" n ta elementdan tashkil topgan 1-o'lchamli massiv \"\"\"\n",
        "  if n > 0:\n",
        "        massiv = np.random.randint(0, 100, n)  # [0, 100) oralig‘ida tasodifiy butun sonlardan iborat massiv\n",
        "        return massiv\n",
        "  else:\n",
        "        return \"Massiv elementlari soni n > 0 bo'lishi kerak\"\n",
        "\n",
        "# Masalan, 10 ta elementli massiv yaratish uchun:\n",
        "massiv = one_dim(10)\n",
        "print(massiv)"
      ],
      "metadata": {
        "id": "0IUnLI8_Yhlw",
        "colab": {
          "base_uri": "https://localhost:8080/"
        },
        "outputId": "765d47aa-2944-4582-d08b-fac5c7c332ee"
      },
      "execution_count": 5,
      "outputs": [
        {
          "output_type": "stream",
          "name": "stdout",
          "text": [
            "[ 7 23 15 86 69 99 94  0 92 14]\n"
          ]
        }
      ]
    },
    {
      "cell_type": "markdown",
      "source": [
        "### Yuqoridagi yozgan funksiyangizni tekshirish uchun, quyidagi cellni yuriting."
      ],
      "metadata": {
        "id": "I9M8WvVgbmdj"
      }
    },
    {
      "cell_type": "code",
      "source": [
        "#@title Tekshirish (natijada hech qanday xatolik yuz bermasligi kerak)\n",
        "\"\"\"Check that function returns the correct output for several inputs\"\"\"\n",
        "for i in range(1, 10):\n",
        "  assert len(one_dim(i)) == i, f\"n elementlar soni, funksiyada noto'g'ri qo'llanilgan\" # n elementlar soni\n",
        "  arr = one_dim(i) # massiv\n",
        "  assert arr.ndim == 1, f\"1-o'lchamli massiv aniqlanmadi\"# massiv o'lchami\n",
        "  assert type(arr) == np.ndarray, f\"massiv aniqlanmadi\" #numpy array"
      ],
      "metadata": {
        "id": "5-G7c8j-cIpp"
      },
      "execution_count": 6,
      "outputs": []
    },
    {
      "cell_type": "markdown",
      "source": [
        "_____"
      ],
      "metadata": {
        "id": "NxKR_fW0gkkt"
      }
    },
    {
      "cell_type": "markdown",
      "source": [
        "### Masala(2) 2-o'lchamli massivlar yaratish\n",
        "\n",
        "**Masala :** Shakli `shape(r, c)` bo'lgan 2-o'lchamli massiv (array) yaratuvchi funksiyani davom ettiring.  \n",
        "\n",
        "**Yordam :** numpy kutubxonasida massivlar yaratuvchi funksiyalarining istalganidan foydlanishingiz mumkin.\n"
      ],
      "metadata": {
        "id": "qlgbXHwCggjr"
      }
    },
    {
      "cell_type": "code",
      "source": [
        "# JAVOBNI\n",
        "def two_dim(r, c):\n",
        "    \"\"\" r ta qator, c ta ustundan tashkil topgan 2-o'lchamli massiv \"\"\"\n",
        "    if r > 0 and c > 0:\n",
        "        massiv = np.random.randint(0, 100, (r, c))  # [0, 100) oralig‘ida tasodifiy butun sonlardan iborat massiv\n",
        "        return massiv\n",
        "    else:\n",
        "        return \"Qator (r) va ustun (c) sonlari 0 dan katta bo'lishi kerak\"\n",
        "\n",
        "# Masalan, 3 qator va 4 ustundan iborat 2-o'lchamli massiv yaratish uchun:\n",
        "massiv = two_dim(3, 4)\n",
        "print(massiv)"
      ],
      "metadata": {
        "id": "Cj6xVSfjdmvj",
        "colab": {
          "base_uri": "https://localhost:8080/"
        },
        "outputId": "f3027328-e489-4fd2-894d-6e1e3dd5ad23"
      },
      "execution_count": 7,
      "outputs": [
        {
          "output_type": "stream",
          "name": "stdout",
          "text": [
            "[[13 40  6 24]\n",
            " [93  3 14 48]\n",
            " [12 52 12 97]]\n"
          ]
        }
      ]
    },
    {
      "cell_type": "markdown",
      "source": [
        "### Yuqoridagi yozgan funksiyangizni tekshirish uchun, quyidagi cellni yuriting."
      ],
      "metadata": {
        "id": "x47iG7oZh9WL"
      }
    },
    {
      "cell_type": "code",
      "source": [
        "#@title Tekshirish (natijada hech qanday xatolik yuz bermasligi kerak)\n",
        "\"\"\"Check that function returns the correct output for several inputs\"\"\"\n",
        "arr = two_dim(3, 2) # massiv\n",
        "assert arr.shape == (3, 2), f\"funksiyada, o'lchamlar noto'g'ri qo'llanilgan\" # shape\n",
        "assert arr.ndim == 2, f\"2-o'lchamli massiv aniqlanmadi\" # massiv o'lchami\n",
        "assert type(arr) == np.ndarray, f\"massiv aniqlanmadi\"# #numpy array"
      ],
      "metadata": {
        "id": "kGYbFv7cggMs"
      },
      "execution_count": 8,
      "outputs": []
    }
  ]
}