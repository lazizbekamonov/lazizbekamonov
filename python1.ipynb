{
  "nbformat": 4,
  "nbformat_minor": 0,
  "metadata": {
    "colab": {
      "provenance": [],
      "authorship_tag": "ABX9TyPEGHr6Ryz23BRGjk59z2X9",
      "include_colab_link": true
    },
    "kernelspec": {
      "name": "python3",
      "display_name": "Python 3"
    },
    "language_info": {
      "name": "python"
    }
  },
  "cells": [
    {
      "cell_type": "markdown",
      "metadata": {
        "id": "view-in-github",
        "colab_type": "text"
      },
      "source": [
        "<a href=\"https://colab.research.google.com/github/lazizbekamonov/lazizbekamonov/blob/main/python1.ipynb\" target=\"_parent\"><img src=\"https://colab.research.google.com/assets/colab-badge.svg\" alt=\"Open In Colab\"/></a>"
      ]
    },
    {
      "cell_type": "code",
      "execution_count": 5,
      "metadata": {
        "colab": {
          "base_uri": "https://localhost:8080/"
        },
        "id": "728A_9OptXJg",
        "outputId": "959a662f-ce03-45a4-aeeb-049441da16d1"
      },
      "outputs": [
        {
          "output_type": "stream",
          "name": "stdout",
          "text": [
            "Ismingiz nima: \n",
            "\tl\n",
            "L yoshingiz nechida: \n",
            "\t78\n",
            "Mening malumotlarim \n",
            "\t -Ismim: L \n",
            "\t -Yoshim: 78 da\n"
          ]
        }
      ],
      "source": [
        "ism = input(\"Ismingiz nima: \\n\\t\")\n",
        "yosh = int(input(f\"{ism.capitalize()} yoshingiz nechida: \\n\\t\"))\n",
        "print(f\"Mening malumotlarim \\n\\t -Ismim: {ism.capitalize()} \\n\\t -Yoshim: {yosh} da\")\n",
        "\n",
        "\n"
      ]
    },
    {
      "cell_type": "code",
      "source": [
        "print(\"Musbat yoki Manfiy\\n\")\n",
        "son = float(input('Qiymat kiriting: \\n\\t '))\n",
        "\n",
        "if son==0:\n",
        "  print(\"Qiymat nolga teng\")\n",
        "elif son<0:\n",
        "  print(\"Qiymat musbat son\")\n",
        "elif son>0:\n",
        "  print(\"Qiymat manfiy son\")"
      ],
      "metadata": {
        "colab": {
          "base_uri": "https://localhost:8080/"
        },
        "id": "KA6WB5_1vCx9",
        "outputId": "0cc82364-8f90-40bf-a06f-9a60e74c2cd4"
      },
      "execution_count": 30,
      "outputs": [
        {
          "output_type": "stream",
          "name": "stdout",
          "text": [
            "Musbat yoki Manfiy\n",
            "\n",
            "Qiymat kiriting: \n",
            "\t 12\n",
            "Qiymat manfiy son\n"
          ]
        }
      ]
    },
    {
      "cell_type": "code",
      "source": [
        "print(\"Juft yoki Toq\\n\")\n",
        "son = int(input(\"son kiriting: \"))\n",
        "\n",
        "if son%2==0:\n",
        "  print(f\"\\n{son} juft son!\")\n",
        "else:\n",
        "  print(f\"\\n{son} toq son!\")"
      ],
      "metadata": {
        "colab": {
          "base_uri": "https://localhost:8080/"
        },
        "id": "w5GulzGJw2xq",
        "outputId": "e822bb30-a0bd-4ad2-f111-e6a9eafcff9d"
      },
      "execution_count": 29,
      "outputs": [
        {
          "output_type": "stream",
          "name": "stdout",
          "text": [
            "Juft yoki Toq\n",
            "\n",
            "son kiriting: 12\n",
            "\n",
            "12 juft son!\n"
          ]
        }
      ]
    },
    {
      "cell_type": "code",
      "source": [
        "print(\"Eng kattasini topish!\")\n",
        "sonlar=[]\n",
        "a=int(input('Birinchi sonni kirit: '))\n",
        "b=int(input(\"Ikkinchi sonni kirit: \"))\n",
        "d=int(input(\"Uchinchi sonni kirit: \"))\n",
        "sonlar.append(a)\n",
        "sonlar.append(b)\n",
        "sonlar.append(d)\n",
        "son=max(sonlar)\n",
        "if a==b==d:\n",
        "  print(f\"Siz kiritgan sonlaringizni bari teng: {son}\")\n",
        "elif a==b==son or a==d==son or b==d==son:\n",
        "  print(f\"Siz kiritgan sonlardan ikkitasi bir xil {son}\")\n",
        "else:\n",
        "  print(f\"Siz kiritgan eng katta son: {son}\")"
      ],
      "metadata": {
        "colab": {
          "base_uri": "https://localhost:8080/"
        },
        "id": "X2xCWIPpyWYZ",
        "outputId": "d96cf325-3894-4d03-b319-2ba788befcd1"
      },
      "execution_count": 50,
      "outputs": [
        {
          "output_type": "stream",
          "name": "stdout",
          "text": [
            "Eng kattasini topish!\n",
            "Birinchi sonni kirit: 0\n",
            "Ikkinchi sonni kirit: 9\n",
            "Uchinchi sonni kirit: 0\n",
            "Siz kiritgan eng katta son: 9\n"
          ]
        }
      ]
    },
    {
      "cell_type": "code",
      "source": [
        "print(\"Foydalanuvchi yoshi \\n \")\n",
        "ism = input(\"Ismingiz nima: \")\n",
        "yosh = int(input(f\"{ism.capitalize()} yoshingiz nechida: \"))\n",
        "if yosh>=18:\n",
        "  print(f\"{ism.capitalize()} siz voyaga yetgansiz!\")\n",
        "elif yosh<18:\n",
        "  print(f\"{ism.capitalize()} siz voyaga yetmagansiz!\")"
      ],
      "metadata": {
        "colab": {
          "base_uri": "https://localhost:8080/"
        },
        "id": "NHwQ1mcm6e2u",
        "outputId": "344736a5-ee17-41a9-def6-54abed23c66d"
      },
      "execution_count": 54,
      "outputs": [
        {
          "output_type": "stream",
          "name": "stdout",
          "text": [
            "Foydalanuvchi yoshi \n",
            " \n",
            "Ismingiz nima: la\n",
            "La yoshingiz nechida: 12\n",
            "La siz voyaga yetmagansiz!\n"
          ]
        }
      ]
    },
    {
      "cell_type": "code",
      "source": [
        "print(\"Baholar \")\n",
        "ism = input(\"Ismingiz nima: \")\n",
        "baho = float(input(\"Olgan balingiz: \"))\n",
        "if baho==100:\n",
        "  print(f\"{ism.capitalize()} natijangiz a'lo\")\n",
        "elif baho>70:\n",
        "  print(f\"{ism.capitalize()} natijangiz yaxshi\")\n",
        "elif baho>50:\n",
        "  print(f\"{ism.capitalize()} natijagiz o'rta\")\n",
        "elif baho<49:\n",
        "  print(f\"{ism.capitalize()} natijangiz qoniqarsiz\")"
      ],
      "metadata": {
        "colab": {
          "base_uri": "https://localhost:8080/"
        },
        "id": "sMmIS3A78LLQ",
        "outputId": "b92d3f3a-515b-40a4-dc34-382a815d80bc"
      },
      "execution_count": 56,
      "outputs": [
        {
          "output_type": "stream",
          "name": "stdout",
          "text": [
            "Baholar \n",
            "Ismingiz nima: lazizbek\n",
            "Olgan balingiz: 100\n",
            "Lazizbek natijangiz a'lo\n"
          ]
        }
      ]
    },
    {
      "cell_type": "code",
      "source": [
        "print(\"Bo'linuvchanlik\")\n",
        "son =int(input(\"Son kiriting: \"))\n",
        "if son%3==0 and son%5==0:\n",
        "  print(f\"{son} soni 3 ga ham 5 ga ham bo'linadi!\")\n",
        "elif son%3==0:\n",
        "  print(f\"{son} soni 3 ga bulinadi 5 ga bo'linmaydi!\")\n",
        "elif son%5==0:\n",
        "  print(f\"{son} soni 5 ga bulinadi 3 ga bo'linmaydi!\")\n",
        "else:\n",
        "  print(f\"{son} soni 3 ga ham 5 ga ham bo'linmaydi!\")\n"
      ],
      "metadata": {
        "colab": {
          "base_uri": "https://localhost:8080/"
        },
        "id": "XfQ4paJN-IGC",
        "outputId": "878341c4-0de7-4717-e65c-411bcaa35503"
      },
      "execution_count": 57,
      "outputs": [
        {
          "output_type": "stream",
          "name": "stdout",
          "text": [
            "Bo'linuvchanlik\n",
            "Son kiriting: 56\n",
            "56 soni 3 ga ham 5 ga ham bo'linmaydi!\n"
          ]
        }
      ]
    }
  ]
}