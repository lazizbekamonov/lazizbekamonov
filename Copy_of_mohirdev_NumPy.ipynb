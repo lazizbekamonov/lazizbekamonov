{
  "cells": [
    {
      "cell_type": "markdown",
      "metadata": {
        "id": "view-in-github",
        "colab_type": "text"
      },
      "source": [
        "<a href=\"https://colab.research.google.com/github/lazizbekamonov/lazizbekamonov/blob/main/Copy_of_mohirdev_NumPy.ipynb\" target=\"_parent\"><img src=\"https://colab.research.google.com/assets/colab-badge.svg\" alt=\"Open In Colab\"/></a>"
      ]
    },
    {
      "cell_type": "markdown",
      "id": "bf79c78b",
      "metadata": {
        "id": "bf79c78b"
      },
      "source": [
        "# NumPy kutubxonasiga doir bilimlaringizni mustaxkamlash uchun mashqlar\n",
        "\n",
        "Hurmatli o'quvchi, bilimingizni yanada mustaxkamlashingiz va chuqurroq ko'nikmalarga ega bo'lishingiz uchun sizga topshiriqlar tayyorladik. Sizga yengillik yaratish maqsadida topshiriqni aynan qanday funksiyalar yordamida amalga oshirishingiz mumkin ekanini\n",
        " `💡Ishora` ko'rinishida yozdik!"
      ]
    },
    {
      "cell_type": "markdown",
      "id": "017db353",
      "metadata": {
        "id": "017db353"
      },
      "source": [
        "#### 1. NumPy kutubxonasini `np` nomi ostida yuklang va numpy kutubxonasini chop eting.\n",
        "\n",
        "versiya va konfiguratsiyani tekshiring.\n"
      ]
    },
    {
      "cell_type": "markdown",
      "source": [
        "`💡Ishora` import … as` and `np.__version__, np.show_config"
      ],
      "metadata": {
        "id": "e28779fe"
      },
      "id": "e28779fe"
    },
    {
      "cell_type": "code",
      "source": [
        "import numpy as np\n",
        "print(np.__version__)\n",
        "np.show_config"
      ],
      "metadata": {
        "id": "_pCbn1ieI3u9",
        "colab": {
          "base_uri": "https://localhost:8080/",
          "height": 204
        },
        "outputId": "8cfd134b-39a6-45f6-c3f2-23753147a89f"
      },
      "id": "_pCbn1ieI3u9",
      "execution_count": null,
      "outputs": [
        {
          "output_type": "stream",
          "name": "stdout",
          "text": [
            "1.26.4\n"
          ]
        },
        {
          "output_type": "execute_result",
          "data": {
            "text/plain": [
              "<function numpy.__config__.show(mode='stdout')>"
            ],
            "text/html": [
              "<div style=\"max-width:800px; border: 1px solid var(--colab-border-color);\"><style>\n",
              "      pre.function-repr-contents {\n",
              "        overflow-x: auto;\n",
              "        padding: 8px 12px;\n",
              "        max-height: 500px;\n",
              "      }\n",
              "\n",
              "      pre.function-repr-contents.function-repr-contents-collapsed {\n",
              "        cursor: pointer;\n",
              "        max-height: 100px;\n",
              "      }\n",
              "    </style>\n",
              "    <pre style=\"white-space: initial; background:\n",
              "         var(--colab-secondary-surface-color); padding: 8px 12px;\n",
              "         border-bottom: 1px solid var(--colab-border-color);\"><b>numpy.__config__.show</b><br/>def show(mode=DisplayModes.stdout.value)</pre><pre class=\"function-repr-contents function-repr-contents-collapsed\" style=\"\"><a class=\"filepath\" style=\"display:none\" href=\"#\">/usr/local/lib/python3.10/dist-packages/numpy/__config__.py</a>Show libraries and system information on which NumPy was built\n",
              "and is being used\n",
              "\n",
              "Parameters\n",
              "----------\n",
              "mode : {`&#x27;stdout&#x27;`, `&#x27;dicts&#x27;`}, optional.\n",
              "    Indicates how to display the config information.\n",
              "    `&#x27;stdout&#x27;` prints to console, `&#x27;dicts&#x27;` returns a dictionary\n",
              "    of the configuration.\n",
              "\n",
              "Returns\n",
              "-------\n",
              "out : {`dict`, `None`}\n",
              "    If mode is `&#x27;dicts&#x27;`, a dict is returned, else None\n",
              "\n",
              "See Also\n",
              "--------\n",
              "get_include : Returns the directory containing NumPy C\n",
              "              header files.\n",
              "\n",
              "Notes\n",
              "-----\n",
              "1. The `&#x27;stdout&#x27;` mode will give more readable\n",
              "   output if ``pyyaml`` is installed</pre>\n",
              "      <script>\n",
              "      if (google.colab.kernel.accessAllowed && google.colab.files && google.colab.files.view) {\n",
              "        for (const element of document.querySelectorAll('.filepath')) {\n",
              "          element.style.display = 'block'\n",
              "          element.onclick = (event) => {\n",
              "            event.preventDefault();\n",
              "            event.stopPropagation();\n",
              "            google.colab.files.view(element.textContent, 118);\n",
              "          };\n",
              "        }\n",
              "      }\n",
              "      for (const element of document.querySelectorAll('.function-repr-contents')) {\n",
              "        element.onclick = (event) => {\n",
              "          event.preventDefault();\n",
              "          event.stopPropagation();\n",
              "          element.classList.toggle('function-repr-contents-collapsed');\n",
              "        };\n",
              "      }\n",
              "      </script>\n",
              "      </div>"
            ]
          },
          "metadata": {},
          "execution_count": 1
        }
      ]
    },
    {
      "cell_type": "markdown",
      "id": "46950f4f",
      "metadata": {
        "id": "46950f4f"
      },
      "source": [
        "#### 2. Raqamli qiymatlar ro'yxatini bir o'lchovli NumPy massiviga aylantiring!"
      ]
    },
    {
      "cell_type": "markdown",
      "source": [
        "`💡Ishora` numpy.array"
      ],
      "metadata": {
        "id": "9b0e875f"
      },
      "id": "9b0e875f"
    },
    {
      "cell_type": "code",
      "source": [
        "import numpy as np\n",
        "\n",
        "# Raqamli qiymatlar ro'yxati\n",
        "raqamlar = [1, 2, 3, 4, 5]\n",
        "\n",
        "# Raqamli qiymatlar ro'yxatini NumPy massiviga aylantirish\n",
        "massiv = np.array(raqamlar)\n",
        "\n",
        "# Natijani chop etish\n",
        "print(massiv)"
      ],
      "metadata": {
        "id": "dgnzjeT3JCi4",
        "colab": {
          "base_uri": "https://localhost:8080/"
        },
        "outputId": "c66adeaf-a8ae-4f59-b07e-e4de858be39b"
      },
      "id": "dgnzjeT3JCi4",
      "execution_count": null,
      "outputs": [
        {
          "output_type": "stream",
          "name": "stdout",
          "text": [
            "[1 2 3 4 5]\n"
          ]
        }
      ]
    },
    {
      "cell_type": "markdown",
      "id": "e3c20b3d",
      "metadata": {
        "id": "e3c20b3d"
      },
      "source": [
        "#### 3. Qiymatlari noldan iborat bo'lgan to'qqiz o'lchovli massiv yarating.\n",
        "\n"
      ]
    },
    {
      "cell_type": "markdown",
      "source": [
        "`💡Ishora` np.zeros"
      ],
      "metadata": {
        "id": "96d0b63e"
      },
      "id": "96d0b63e"
    },
    {
      "cell_type": "code",
      "source": [
        "import numpy as np\n",
        "\n",
        "# 9 o'lchovli massiv yaratish (har bir o'lchov uchun 2 element)\n",
        "massiv = np.zeros((2, 2, 2, 2, 2, 2, 2, 2, 2))\n",
        "\n",
        "# Natijani chop etish\n",
        "print(massiv)\n",
        "print(\"Massivning o'lchovi:\", massiv.shape)"
      ],
      "metadata": {
        "id": "_t9RL0iz8VjO",
        "outputId": "b283d9a6-057d-41df-afb0-3a4ae9da0f16",
        "colab": {
          "base_uri": "https://localhost:8080/"
        }
      },
      "id": "_t9RL0iz8VjO",
      "execution_count": null,
      "outputs": [
        {
          "output_type": "stream",
          "name": "stdout",
          "text": [
            "[[[[[[[[[0. 0.]\n",
            "        [0. 0.]]\n",
            "\n",
            "       [[0. 0.]\n",
            "        [0. 0.]]]\n",
            "\n",
            "\n",
            "      [[[0. 0.]\n",
            "        [0. 0.]]\n",
            "\n",
            "       [[0. 0.]\n",
            "        [0. 0.]]]]\n",
            "\n",
            "\n",
            "\n",
            "     [[[[0. 0.]\n",
            "        [0. 0.]]\n",
            "\n",
            "       [[0. 0.]\n",
            "        [0. 0.]]]\n",
            "\n",
            "\n",
            "      [[[0. 0.]\n",
            "        [0. 0.]]\n",
            "\n",
            "       [[0. 0.]\n",
            "        [0. 0.]]]]]\n",
            "\n",
            "\n",
            "\n",
            "\n",
            "    [[[[[0. 0.]\n",
            "        [0. 0.]]\n",
            "\n",
            "       [[0. 0.]\n",
            "        [0. 0.]]]\n",
            "\n",
            "\n",
            "      [[[0. 0.]\n",
            "        [0. 0.]]\n",
            "\n",
            "       [[0. 0.]\n",
            "        [0. 0.]]]]\n",
            "\n",
            "\n",
            "\n",
            "     [[[[0. 0.]\n",
            "        [0. 0.]]\n",
            "\n",
            "       [[0. 0.]\n",
            "        [0. 0.]]]\n",
            "\n",
            "\n",
            "      [[[0. 0.]\n",
            "        [0. 0.]]\n",
            "\n",
            "       [[0. 0.]\n",
            "        [0. 0.]]]]]]\n",
            "\n",
            "\n",
            "\n",
            "\n",
            "\n",
            "   [[[[[[0. 0.]\n",
            "        [0. 0.]]\n",
            "\n",
            "       [[0. 0.]\n",
            "        [0. 0.]]]\n",
            "\n",
            "\n",
            "      [[[0. 0.]\n",
            "        [0. 0.]]\n",
            "\n",
            "       [[0. 0.]\n",
            "        [0. 0.]]]]\n",
            "\n",
            "\n",
            "\n",
            "     [[[[0. 0.]\n",
            "        [0. 0.]]\n",
            "\n",
            "       [[0. 0.]\n",
            "        [0. 0.]]]\n",
            "\n",
            "\n",
            "      [[[0. 0.]\n",
            "        [0. 0.]]\n",
            "\n",
            "       [[0. 0.]\n",
            "        [0. 0.]]]]]\n",
            "\n",
            "\n",
            "\n",
            "\n",
            "    [[[[[0. 0.]\n",
            "        [0. 0.]]\n",
            "\n",
            "       [[0. 0.]\n",
            "        [0. 0.]]]\n",
            "\n",
            "\n",
            "      [[[0. 0.]\n",
            "        [0. 0.]]\n",
            "\n",
            "       [[0. 0.]\n",
            "        [0. 0.]]]]\n",
            "\n",
            "\n",
            "\n",
            "     [[[[0. 0.]\n",
            "        [0. 0.]]\n",
            "\n",
            "       [[0. 0.]\n",
            "        [0. 0.]]]\n",
            "\n",
            "\n",
            "      [[[0. 0.]\n",
            "        [0. 0.]]\n",
            "\n",
            "       [[0. 0.]\n",
            "        [0. 0.]]]]]]]\n",
            "\n",
            "\n",
            "\n",
            "\n",
            "\n",
            "\n",
            "  [[[[[[[0. 0.]\n",
            "        [0. 0.]]\n",
            "\n",
            "       [[0. 0.]\n",
            "        [0. 0.]]]\n",
            "\n",
            "\n",
            "      [[[0. 0.]\n",
            "        [0. 0.]]\n",
            "\n",
            "       [[0. 0.]\n",
            "        [0. 0.]]]]\n",
            "\n",
            "\n",
            "\n",
            "     [[[[0. 0.]\n",
            "        [0. 0.]]\n",
            "\n",
            "       [[0. 0.]\n",
            "        [0. 0.]]]\n",
            "\n",
            "\n",
            "      [[[0. 0.]\n",
            "        [0. 0.]]\n",
            "\n",
            "       [[0. 0.]\n",
            "        [0. 0.]]]]]\n",
            "\n",
            "\n",
            "\n",
            "\n",
            "    [[[[[0. 0.]\n",
            "        [0. 0.]]\n",
            "\n",
            "       [[0. 0.]\n",
            "        [0. 0.]]]\n",
            "\n",
            "\n",
            "      [[[0. 0.]\n",
            "        [0. 0.]]\n",
            "\n",
            "       [[0. 0.]\n",
            "        [0. 0.]]]]\n",
            "\n",
            "\n",
            "\n",
            "     [[[[0. 0.]\n",
            "        [0. 0.]]\n",
            "\n",
            "       [[0. 0.]\n",
            "        [0. 0.]]]\n",
            "\n",
            "\n",
            "      [[[0. 0.]\n",
            "        [0. 0.]]\n",
            "\n",
            "       [[0. 0.]\n",
            "        [0. 0.]]]]]]\n",
            "\n",
            "\n",
            "\n",
            "\n",
            "\n",
            "   [[[[[[0. 0.]\n",
            "        [0. 0.]]\n",
            "\n",
            "       [[0. 0.]\n",
            "        [0. 0.]]]\n",
            "\n",
            "\n",
            "      [[[0. 0.]\n",
            "        [0. 0.]]\n",
            "\n",
            "       [[0. 0.]\n",
            "        [0. 0.]]]]\n",
            "\n",
            "\n",
            "\n",
            "     [[[[0. 0.]\n",
            "        [0. 0.]]\n",
            "\n",
            "       [[0. 0.]\n",
            "        [0. 0.]]]\n",
            "\n",
            "\n",
            "      [[[0. 0.]\n",
            "        [0. 0.]]\n",
            "\n",
            "       [[0. 0.]\n",
            "        [0. 0.]]]]]\n",
            "\n",
            "\n",
            "\n",
            "\n",
            "    [[[[[0. 0.]\n",
            "        [0. 0.]]\n",
            "\n",
            "       [[0. 0.]\n",
            "        [0. 0.]]]\n",
            "\n",
            "\n",
            "      [[[0. 0.]\n",
            "        [0. 0.]]\n",
            "\n",
            "       [[0. 0.]\n",
            "        [0. 0.]]]]\n",
            "\n",
            "\n",
            "\n",
            "     [[[[0. 0.]\n",
            "        [0. 0.]]\n",
            "\n",
            "       [[0. 0.]\n",
            "        [0. 0.]]]\n",
            "\n",
            "\n",
            "      [[[0. 0.]\n",
            "        [0. 0.]]\n",
            "\n",
            "       [[0. 0.]\n",
            "        [0. 0.]]]]]]]]\n",
            "\n",
            "\n",
            "\n",
            "\n",
            "\n",
            "\n",
            "\n",
            " [[[[[[[[0. 0.]\n",
            "        [0. 0.]]\n",
            "\n",
            "       [[0. 0.]\n",
            "        [0. 0.]]]\n",
            "\n",
            "\n",
            "      [[[0. 0.]\n",
            "        [0. 0.]]\n",
            "\n",
            "       [[0. 0.]\n",
            "        [0. 0.]]]]\n",
            "\n",
            "\n",
            "\n",
            "     [[[[0. 0.]\n",
            "        [0. 0.]]\n",
            "\n",
            "       [[0. 0.]\n",
            "        [0. 0.]]]\n",
            "\n",
            "\n",
            "      [[[0. 0.]\n",
            "        [0. 0.]]\n",
            "\n",
            "       [[0. 0.]\n",
            "        [0. 0.]]]]]\n",
            "\n",
            "\n",
            "\n",
            "\n",
            "    [[[[[0. 0.]\n",
            "        [0. 0.]]\n",
            "\n",
            "       [[0. 0.]\n",
            "        [0. 0.]]]\n",
            "\n",
            "\n",
            "      [[[0. 0.]\n",
            "        [0. 0.]]\n",
            "\n",
            "       [[0. 0.]\n",
            "        [0. 0.]]]]\n",
            "\n",
            "\n",
            "\n",
            "     [[[[0. 0.]\n",
            "        [0. 0.]]\n",
            "\n",
            "       [[0. 0.]\n",
            "        [0. 0.]]]\n",
            "\n",
            "\n",
            "      [[[0. 0.]\n",
            "        [0. 0.]]\n",
            "\n",
            "       [[0. 0.]\n",
            "        [0. 0.]]]]]]\n",
            "\n",
            "\n",
            "\n",
            "\n",
            "\n",
            "   [[[[[[0. 0.]\n",
            "        [0. 0.]]\n",
            "\n",
            "       [[0. 0.]\n",
            "        [0. 0.]]]\n",
            "\n",
            "\n",
            "      [[[0. 0.]\n",
            "        [0. 0.]]\n",
            "\n",
            "       [[0. 0.]\n",
            "        [0. 0.]]]]\n",
            "\n",
            "\n",
            "\n",
            "     [[[[0. 0.]\n",
            "        [0. 0.]]\n",
            "\n",
            "       [[0. 0.]\n",
            "        [0. 0.]]]\n",
            "\n",
            "\n",
            "      [[[0. 0.]\n",
            "        [0. 0.]]\n",
            "\n",
            "       [[0. 0.]\n",
            "        [0. 0.]]]]]\n",
            "\n",
            "\n",
            "\n",
            "\n",
            "    [[[[[0. 0.]\n",
            "        [0. 0.]]\n",
            "\n",
            "       [[0. 0.]\n",
            "        [0. 0.]]]\n",
            "\n",
            "\n",
            "      [[[0. 0.]\n",
            "        [0. 0.]]\n",
            "\n",
            "       [[0. 0.]\n",
            "        [0. 0.]]]]\n",
            "\n",
            "\n",
            "\n",
            "     [[[[0. 0.]\n",
            "        [0. 0.]]\n",
            "\n",
            "       [[0. 0.]\n",
            "        [0. 0.]]]\n",
            "\n",
            "\n",
            "      [[[0. 0.]\n",
            "        [0. 0.]]\n",
            "\n",
            "       [[0. 0.]\n",
            "        [0. 0.]]]]]]]\n",
            "\n",
            "\n",
            "\n",
            "\n",
            "\n",
            "\n",
            "  [[[[[[[0. 0.]\n",
            "        [0. 0.]]\n",
            "\n",
            "       [[0. 0.]\n",
            "        [0. 0.]]]\n",
            "\n",
            "\n",
            "      [[[0. 0.]\n",
            "        [0. 0.]]\n",
            "\n",
            "       [[0. 0.]\n",
            "        [0. 0.]]]]\n",
            "\n",
            "\n",
            "\n",
            "     [[[[0. 0.]\n",
            "        [0. 0.]]\n",
            "\n",
            "       [[0. 0.]\n",
            "        [0. 0.]]]\n",
            "\n",
            "\n",
            "      [[[0. 0.]\n",
            "        [0. 0.]]\n",
            "\n",
            "       [[0. 0.]\n",
            "        [0. 0.]]]]]\n",
            "\n",
            "\n",
            "\n",
            "\n",
            "    [[[[[0. 0.]\n",
            "        [0. 0.]]\n",
            "\n",
            "       [[0. 0.]\n",
            "        [0. 0.]]]\n",
            "\n",
            "\n",
            "      [[[0. 0.]\n",
            "        [0. 0.]]\n",
            "\n",
            "       [[0. 0.]\n",
            "        [0. 0.]]]]\n",
            "\n",
            "\n",
            "\n",
            "     [[[[0. 0.]\n",
            "        [0. 0.]]\n",
            "\n",
            "       [[0. 0.]\n",
            "        [0. 0.]]]\n",
            "\n",
            "\n",
            "      [[[0. 0.]\n",
            "        [0. 0.]]\n",
            "\n",
            "       [[0. 0.]\n",
            "        [0. 0.]]]]]]\n",
            "\n",
            "\n",
            "\n",
            "\n",
            "\n",
            "   [[[[[[0. 0.]\n",
            "        [0. 0.]]\n",
            "\n",
            "       [[0. 0.]\n",
            "        [0. 0.]]]\n",
            "\n",
            "\n",
            "      [[[0. 0.]\n",
            "        [0. 0.]]\n",
            "\n",
            "       [[0. 0.]\n",
            "        [0. 0.]]]]\n",
            "\n",
            "\n",
            "\n",
            "     [[[[0. 0.]\n",
            "        [0. 0.]]\n",
            "\n",
            "       [[0. 0.]\n",
            "        [0. 0.]]]\n",
            "\n",
            "\n",
            "      [[[0. 0.]\n",
            "        [0. 0.]]\n",
            "\n",
            "       [[0. 0.]\n",
            "        [0. 0.]]]]]\n",
            "\n",
            "\n",
            "\n",
            "\n",
            "    [[[[[0. 0.]\n",
            "        [0. 0.]]\n",
            "\n",
            "       [[0. 0.]\n",
            "        [0. 0.]]]\n",
            "\n",
            "\n",
            "      [[[0. 0.]\n",
            "        [0. 0.]]\n",
            "\n",
            "       [[0. 0.]\n",
            "        [0. 0.]]]]\n",
            "\n",
            "\n",
            "\n",
            "     [[[[0. 0.]\n",
            "        [0. 0.]]\n",
            "\n",
            "       [[0. 0.]\n",
            "        [0. 0.]]]\n",
            "\n",
            "\n",
            "      [[[0. 0.]\n",
            "        [0. 0.]]\n",
            "\n",
            "       [[0. 0.]\n",
            "        [0. 0.]]]]]]]]]\n",
            "Massivning o'lchovi: (2, 2, 2, 2, 2, 2, 2, 2, 2)\n"
          ]
        }
      ]
    },
    {
      "cell_type": "markdown",
      "id": "b15a879f",
      "metadata": {
        "id": "b15a879f"
      },
      "source": [
        "#### 4. Massiv yarating va uning xotira hajmini toping.\n",
        "\n"
      ]
    },
    {
      "cell_type": "markdown",
      "source": [
        "`💡Ishora` size, itemsize"
      ],
      "metadata": {
        "id": "32f9025c"
      },
      "id": "32f9025c"
    },
    {
      "cell_type": "code",
      "source": [
        "import numpy as np\n",
        "\n",
        "# Massiv yaratish\n",
        "massiv = np.array([1, 2, 3, 4, 5])\n",
        "\n",
        "# Massiv hajmini aniqlash\n",
        "hajmi = massiv.size * massiv.itemsize\n",
        "\n",
        "print(f\"Massivning xotira hajmi: {hajmi} bayt\")\n"
      ],
      "metadata": {
        "id": "MZxcJM_oJOTs",
        "colab": {
          "base_uri": "https://localhost:8080/"
        },
        "outputId": "5d75a681-ef4f-449f-87a4-63b7dd71a525"
      },
      "id": "MZxcJM_oJOTs",
      "execution_count": 1,
      "outputs": [
        {
          "output_type": "stream",
          "name": "stdout",
          "text": [
            "Massivning xotira hajmi: 40 bayt\n"
          ]
        }
      ]
    },
    {
      "cell_type": "markdown",
      "id": "0a708990",
      "metadata": {
        "id": "0a708990"
      },
      "source": [
        "#### 5. NumPy kutubxonasidagi add funksiyasi hujjatlarini buyruq satridan qanday olishi mumkin?\n"
      ]
    },
    {
      "cell_type": "markdown",
      "source": [
        "`💡Ishora` np.info"
      ],
      "metadata": {
        "id": "d254eea5"
      },
      "id": "d254eea5"
    },
    {
      "cell_type": "code",
      "source": [
        "import numpy as np\n",
        "\n",
        "# add funksiyasi haqida ma'lumot olish\n",
        "np.info(np.add)"
      ],
      "metadata": {
        "id": "m7nA_vYsJVUi",
        "colab": {
          "base_uri": "https://localhost:8080/"
        },
        "outputId": "12eaa536-36d5-4e25-85f7-f0cf47196520"
      },
      "id": "m7nA_vYsJVUi",
      "execution_count": 10,
      "outputs": [
        {
          "output_type": "stream",
          "name": "stdout",
          "text": [
            "add(x1, x2, /, out=None, *, where=True, casting='same_kind', order='K', dtype=None, subok=True[, signature, extobj])\n",
            "\n",
            "Add arguments element-wise.\n",
            "\n",
            "Parameters\n",
            "----------\n",
            "x1, x2 : array_like\n",
            "    The arrays to be added.\n",
            "    If ``x1.shape != x2.shape``, they must be broadcastable to a common\n",
            "    shape (which becomes the shape of the output).\n",
            "out : ndarray, None, or tuple of ndarray and None, optional\n",
            "    A location into which the result is stored. If provided, it must have\n",
            "    a shape that the inputs broadcast to. If not provided or None,\n",
            "    a freshly-allocated array is returned. A tuple (possible only as a\n",
            "    keyword argument) must have length equal to the number of outputs.\n",
            "where : array_like, optional\n",
            "    This condition is broadcast over the input. At locations where the\n",
            "    condition is True, the `out` array will be set to the ufunc result.\n",
            "    Elsewhere, the `out` array will retain its original value.\n",
            "    Note that if an uninitialized `out` array is created via the default\n",
            "    ``out=None``, locations within it where the condition is False will\n",
            "    remain uninitialized.\n",
            "**kwargs\n",
            "    For other keyword-only arguments, see the\n",
            "    :ref:`ufunc docs <ufuncs.kwargs>`.\n",
            "\n",
            "Returns\n",
            "-------\n",
            "add : ndarray or scalar\n",
            "    The sum of `x1` and `x2`, element-wise.\n",
            "    This is a scalar if both `x1` and `x2` are scalars.\n",
            "\n",
            "Notes\n",
            "-----\n",
            "Equivalent to `x1` + `x2` in terms of array broadcasting.\n",
            "\n",
            "Examples\n",
            "--------\n",
            ">>> np.add(1.0, 4.0)\n",
            "5.0\n",
            ">>> x1 = np.arange(9.0).reshape((3, 3))\n",
            ">>> x2 = np.arange(3.0)\n",
            ">>> np.add(x1, x2)\n",
            "array([[  0.,   2.,   4.],\n",
            "       [  3.,   5.,   7.],\n",
            "       [  6.,   8.,  10.]])\n",
            "\n",
            "The ``+`` operator can be used as a shorthand for ``np.add`` on ndarrays.\n",
            "\n",
            ">>> x1 = np.arange(9.0).reshape((3, 3))\n",
            ">>> x2 = np.arange(3.0)\n",
            ">>> x1 + x2\n",
            "array([[ 0.,  2.,  4.],\n",
            "       [ 3.,  5.,  7.],\n",
            "       [ 6.,  8., 10.]])\n"
          ]
        }
      ]
    },
    {
      "cell_type": "markdown",
      "id": "0b16cd77",
      "metadata": {
        "id": "0b16cd77"
      },
      "source": [
        "#### 6. Shunday vekor yaratingki u o'n ikki o'lchamda va qiymatlari noldan iborat bo'lsin, lekin vektorning oltinchi qiymati 1 ga teng bo'lsin.\n",
        "\n"
      ]
    },
    {
      "cell_type": "markdown",
      "source": [
        "`💡Ishora` array[12]"
      ],
      "metadata": {
        "id": "05223560"
      },
      "id": "05223560"
    },
    {
      "cell_type": "code",
      "source": [
        "import numpy as np\n",
        "\n",
        "# 12 o'lchamdagi nol qiymatli vektor yaratish\n",
        "vektor = np.zeros(12)\n",
        "\n",
        "# Oltinchi qiymatini 1 ga o'zgartirish\n",
        "vektor[5] = 1  # Indekslar 0 dan boshlanadi, shuning uchun 5 - oltinchi element\n",
        "\n",
        "print(\"Vektor:\")\n",
        "print(vektor)"
      ],
      "metadata": {
        "id": "UJfYDNQoJc7M",
        "colab": {
          "base_uri": "https://localhost:8080/"
        },
        "outputId": "7dd1e5d2-a4d9-42a4-f386-b8f4131d35e4"
      },
      "id": "UJfYDNQoJc7M",
      "execution_count": 11,
      "outputs": [
        {
          "output_type": "stream",
          "name": "stdout",
          "text": [
            "Vektor:\n",
            "[0. 0. 0. 0. 0. 1. 0. 0. 0. 0. 0. 0.]\n"
          ]
        }
      ]
    },
    {
      "cell_type": "markdown",
      "id": "782d4c77",
      "metadata": {
        "id": "782d4c77"
      },
      "source": [
        "#### 7. Qiymatlari 20 dan 59 gacha bo'lgan vektor yarating.\n",
        "\n"
      ]
    },
    {
      "cell_type": "markdown",
      "source": [
        "`💡Ishora` arange"
      ],
      "metadata": {
        "id": "7250d114"
      },
      "id": "7250d114"
    },
    {
      "cell_type": "code",
      "source": [
        "import numpy as np\n",
        "\n",
        "# 20 dan 59 gacha bo'lgan qiymatlar bilan vektor yaratish\n",
        "vektor = np.arange(20, 60)  # 60 ni kiritmaydi\n",
        "\n",
        "print(\"20 dan 59 gacha bo'lgan vektor:\")\n",
        "print(vektor)"
      ],
      "metadata": {
        "id": "fSaWkGakJhwz",
        "colab": {
          "base_uri": "https://localhost:8080/"
        },
        "outputId": "ab78cb4b-d7da-4452-9eda-91be6182f9db"
      },
      "id": "fSaWkGakJhwz",
      "execution_count": 9,
      "outputs": [
        {
          "output_type": "stream",
          "name": "stdout",
          "text": [
            "20 dan 59 gacha bo'lgan vektor:\n",
            "[20 21 22 23 24 25 26 27 28 29 30 31 32 33 34 35 36 37 38 39 40 41 42 43\n",
            " 44 45 46 47 48 49 50 51 52 53 54 55 56 57 58 59]\n"
          ]
        }
      ]
    },
    {
      "cell_type": "markdown",
      "id": "48d48f01",
      "metadata": {
        "id": "48d48f01"
      },
      "source": [
        "#### 8. Vektor yarating va uni teskari o'zgartiring\n",
        "(birinchi element oxirgisi bo'lsin)\n",
        "\n"
      ]
    },
    {
      "cell_type": "markdown",
      "source": [
        "`💡Ishora` array[::-1]"
      ],
      "metadata": {
        "id": "fb702ae0"
      },
      "id": "fb702ae0"
    },
    {
      "cell_type": "code",
      "source": [
        "import numpy as np\n",
        "\n",
        "# Vektor yaratish\n",
        "vektor = np.array([1, 2, 3, 4, 5])\n",
        "\n",
        "# Vektorni teskari o'zgartirish\n",
        "teskari_vektor = vektor[::-1]\n",
        "\n",
        "print(\"Asl vektor:\")\n",
        "print(vektor)\n",
        "print(\"\\nTeskari vektor:\")\n",
        "print(teskari_vektor)"
      ],
      "metadata": {
        "id": "GCP6vp_WJrON",
        "colab": {
          "base_uri": "https://localhost:8080/"
        },
        "outputId": "373b47a3-3108-4bef-da87-fdb8bc9c6491"
      },
      "id": "GCP6vp_WJrON",
      "execution_count": 8,
      "outputs": [
        {
          "output_type": "stream",
          "name": "stdout",
          "text": [
            "Asl vektor:\n",
            "[1 2 3 4 5]\n",
            "\n",
            "Teskari vektor:\n",
            "[5 4 3 2 1]\n"
          ]
        }
      ]
    },
    {
      "cell_type": "markdown",
      "id": "4fa39382",
      "metadata": {
        "id": "4fa39382"
      },
      "source": [
        "#### 9. 12 dan 20 gacha bo'lgan qiymatlarga ega 3x3 matritsa yarating.\n"
      ]
    },
    {
      "cell_type": "markdown",
      "source": [
        "`💡Ishora` reshape"
      ],
      "metadata": {
        "id": "97e6be92"
      },
      "id": "97e6be92"
    },
    {
      "cell_type": "code",
      "source": [
        "import numpy as np\n",
        "\n",
        "# 12 dan 20 gacha bo'lgan qiymatlarni yaratish\n",
        "qiymatlar = np.arange(12, 21)\n",
        "\n",
        "# 3x3 matritsaga o'zgartirish\n",
        "matritsa = qiymatlar.reshape(3, 3)\n",
        "\n",
        "print(\"3x3 matritsa:\")\n",
        "print(matritsa)"
      ],
      "metadata": {
        "id": "Ve7gEGjuJxxw",
        "colab": {
          "base_uri": "https://localhost:8080/"
        },
        "outputId": "7512bb13-8cb1-4a3a-d16f-e3aca17f683f"
      },
      "id": "Ve7gEGjuJxxw",
      "execution_count": 5,
      "outputs": [
        {
          "output_type": "stream",
          "name": "stdout",
          "text": [
            "3x3 matritsa:\n",
            "[[12 13 14]\n",
            " [15 16 17]\n",
            " [18 19 20]]\n"
          ]
        }
      ]
    },
    {
      "cell_type": "markdown",
      "id": "da64551a",
      "metadata": {
        "id": "da64551a"
      },
      "source": [
        "#### 10. Quyidagi matritsadan foydalanib nolga teng bo'lmagan elementlarning indekslarini toping.\n",
        "[3, 7, 0, 0, 9, 0]\n",
        "\n",
        "\n",
        "\n"
      ]
    },
    {
      "cell_type": "markdown",
      "source": [
        "`💡Ishora` np.nonzero"
      ],
      "metadata": {
        "id": "322b2b68"
      },
      "id": "322b2b68"
    },
    {
      "cell_type": "code",
      "source": [
        "import numpy as np\n",
        "\n",
        "# Berilgan matritsa\n",
        "matritsa = np.array([3, 7, 0, 0, 9, 0])\n",
        "\n",
        "# Nolga teng bo'lmagan elementlarning indekslarini topish\n",
        "nolga_teng_bolmagan_indekslar = np.nonzero(matritsa)\n",
        "\n",
        "print(\"Nolga teng bo'lmagan elementlarning indekslari:\")\n",
        "print(nolga_teng_bolmagan_indekslar[0])  # 1D arrayda natijalar"
      ],
      "metadata": {
        "id": "fNIuSyBaJ4OP",
        "colab": {
          "base_uri": "https://localhost:8080/"
        },
        "outputId": "51a11035-f62b-4d57-97f9-f9937e87eb9b"
      },
      "id": "fNIuSyBaJ4OP",
      "execution_count": 7,
      "outputs": [
        {
          "output_type": "stream",
          "name": "stdout",
          "text": [
            "Nolga teng bo'lmagan elementlarning indekslari:\n",
            "[0 1 4]\n"
          ]
        }
      ]
    },
    {
      "cell_type": "markdown",
      "id": "f89d9c9e",
      "metadata": {
        "id": "f89d9c9e"
      },
      "source": [
        "#### 11. Tasodifiy qiymatlar bilan 2x2x2 o'lchovidagi massiv yarating.\n"
      ]
    },
    {
      "cell_type": "markdown",
      "source": [
        "`💡Ishora` np.random.random"
      ],
      "metadata": {
        "id": "5717e1c1"
      },
      "id": "5717e1c1"
    },
    {
      "cell_type": "code",
      "source": [
        "import numpy as np\n",
        "\n",
        "# 2x2x2 o'lchamdagi tasodifiy qiymatlar bilan massiv yaratish\n",
        "massiv = np.random.random((2, 2, 2))\n",
        "\n",
        "print(\"2x2x2 o'lchamdagi tasodifiy qiymatlar bilan massiv:\")\n",
        "print(massiv)"
      ],
      "metadata": {
        "id": "bHloeqHOKuiX",
        "colab": {
          "base_uri": "https://localhost:8080/"
        },
        "outputId": "65978a1d-9a78-4e60-f3d8-ab85f791b09c"
      },
      "id": "bHloeqHOKuiX",
      "execution_count": 6,
      "outputs": [
        {
          "output_type": "stream",
          "name": "stdout",
          "text": [
            "2x2x2 o'lchamdagi tasodifiy qiymatlar bilan massiv:\n",
            "[[[0.43458671 0.03677627]\n",
            "  [0.42011649 0.03777764]]\n",
            "\n",
            " [[0.3105673  0.32296488]\n",
            "  [0.48833004 0.3445268 ]]]\n"
          ]
        }
      ]
    },
    {
      "cell_type": "markdown",
      "id": "13c5928c",
      "metadata": {
        "id": "13c5928c"
      },
      "source": [
        "#### 12. Tasodifiy sonlardan tashkil topgan 9X9 o'lchamidagi massiv yarating. So'ng uning eng katta va eng kichik qiymatlarini toping\n"
      ]
    },
    {
      "cell_type": "markdown",
      "source": [
        "`💡Ishora` min, max"
      ],
      "metadata": {
        "id": "0ede4d26"
      },
      "id": "0ede4d26"
    },
    {
      "cell_type": "code",
      "source": [
        "import numpy as np\n",
        "\n",
        "# 9x9 o'lchamdagi tasodifiy sonlardan iborat massiv yaratish\n",
        "massiv = np.random.random((9, 9))\n",
        "\n",
        "# Eng katta va eng kichik qiymatlarni topish\n",
        "eng_kichik = np.min(massiv)\n",
        "eng_katta = np.max(massiv)\n",
        "\n",
        "print(\"Massiv:\")\n",
        "print(massiv)\n",
        "print(f\"\\nEng kichik qiymat: {eng_kichik}\")\n",
        "print(f\"Eng katta qiymat: {eng_katta}\")"
      ],
      "metadata": {
        "id": "OJiVa5K9LJyb",
        "colab": {
          "base_uri": "https://localhost:8080/"
        },
        "outputId": "e5f17c27-862e-4288-c37b-612c59128272"
      },
      "id": "OJiVa5K9LJyb",
      "execution_count": 4,
      "outputs": [
        {
          "output_type": "stream",
          "name": "stdout",
          "text": [
            "Massiv:\n",
            "[[0.280584   0.91330801 0.14285807 0.1302522  0.98677946 0.31797993\n",
            "  0.15767648 0.69467939 0.28671394]\n",
            " [0.74506606 0.69449795 0.98296708 0.07199649 0.95452547 0.71995604\n",
            "  0.90907613 0.99147794 0.79144531]\n",
            " [0.91713777 0.33668002 0.42700222 0.93453841 0.46169138 0.71319473\n",
            "  0.68710707 0.84868457 0.91668363]\n",
            " [0.94277326 0.40431403 0.48549263 0.57507609 0.36496377 0.29801365\n",
            "  0.18445187 0.53659561 0.15277883]\n",
            " [0.88306087 0.95291483 0.70859047 0.84397133 0.28268806 0.01737687\n",
            "  0.94786281 0.68169711 0.52092406]\n",
            " [0.06904623 0.48197882 0.62554131 0.38124141 0.22364972 0.01425118\n",
            "  0.80165163 0.89849874 0.79037214]\n",
            " [0.8101794  0.87041161 0.67841124 0.40077733 0.47219308 0.1673097\n",
            "  0.90917977 0.22665296 0.65156662]\n",
            " [0.20141001 0.24344753 0.24947322 0.84727916 0.22702794 0.32008747\n",
            "  0.52459879 0.47261062 0.70273637]\n",
            " [0.49589354 0.80712607 0.58401566 0.08030344 0.87152132 0.70546862\n",
            "  0.03070233 0.96300605 0.56390191]]\n",
            "\n",
            "Eng kichik qiymat: 0.014251177529399528\n",
            "Eng katta qiymat: 0.9914779411689086\n"
          ]
        }
      ]
    },
    {
      "cell_type": "markdown",
      "id": "3fa2e461",
      "metadata": {
        "id": "3fa2e461"
      },
      "source": [
        "#### 13. Quyidagi misol qanday natija beradi?\n",
        "\n",
        "\n",
        "```python\n",
        "0 * np.nan\n",
        "np.nan == np.nan\n",
        "np.inf > np.nan\n",
        "np.nan - np.nan\n",
        "np.nan in set([np.nan])\n",
        "0.7 == 7 * 0.1\n",
        "```\n"
      ]
    },
    {
      "cell_type": "markdown",
      "source": [
        "`💡Ishora` NaN = not a number, inf = infinity"
      ],
      "metadata": {
        "id": "c0048e59"
      },
      "id": "c0048e59"
    },
    {
      "cell_type": "markdown",
      "source": [
        "1. 0 * np.nan\n",
        "Natija: nan\n",
        "Izoh: Har qanday son np.nan (Not a Number) bilan ko‘paytirilganda natija nan bo‘ladi.\n",
        "\n",
        "\n",
        "2. np.nan == np.nan\n",
        "Natija: False\n",
        "Izoh: np.nan o‘zini o‘zi teng emas deb hisoblanadi.\n",
        "\n",
        "\n",
        "3. np.inf > np.nan\n",
        "Natija: False\n",
        "Izoh: np.nan har qanday son bilan taqqoslanganda (np.inf ham) natija False bo‘ladi, chunki nan qiymati aniqlanmagan.\n",
        "\n",
        "\n",
        "4. np.nan - np.nan\n",
        "Natija: nan\n",
        "Izoh: np.nan dan np.nan ni ayirganda natija ham nan bo‘ladi.\n",
        "\n",
        "\n",
        "5. np.nan in set([np.nan])\n",
        "Natija: True\n",
        "Izoh: set ichida np.nan mavjud bo‘lsa, bu True natijani beradi, chunki set ichidagi elementlarni tekshirish np.nanning o‘ziga teng bo‘lishi bilan bog‘liq emas.\n",
        "\n",
        "\n",
        "6. 0.7 == 7 * 0.1\n",
        "Natija: False\n",
        "Izoh: 7 * 0.1 natijasi 0.7000000000000001 bo‘ladi, bu esa 0.7 ga teng emas, shuning uchun natija False."
      ],
      "metadata": {
        "id": "_fmOw-QB4pG3"
      },
      "id": "_fmOw-QB4pG3"
    },
    {
      "cell_type": "code",
      "source": [
        "0 * np.nan            # nan\n",
        "np.nan == np.nan      # False\n",
        "np.inf > np.nan       # False\n",
        "np.nan - np.nan       # nan\n",
        "np.nan in set([np.nan])  # True\n",
        "0.7 == 7 * 0.1       # False"
      ],
      "metadata": {
        "id": "Thbqd_RCLf_e",
        "colab": {
          "base_uri": "https://localhost:8080/"
        },
        "outputId": "9cc4416a-748a-4320-ce50-fb328f6fe40f"
      },
      "id": "Thbqd_RCLf_e",
      "execution_count": 3,
      "outputs": [
        {
          "output_type": "execute_result",
          "data": {
            "text/plain": [
              "False"
            ]
          },
          "metadata": {},
          "execution_count": 3
        }
      ]
    },
    {
      "cell_type": "markdown",
      "id": "73f7a549",
      "metadata": {
        "id": "73f7a549"
      },
      "source": [
        "#### 14. O'lchamlari 6x3 va 3x4 bo'lgan martitsa yarating, so'ng ularning  ko'paytmasini hisoblang.\n",
        "\n"
      ]
    },
    {
      "cell_type": "markdown",
      "source": [
        "`💡Ishora` np.dot` or `np.ones"
      ],
      "metadata": {
        "id": "351ff928"
      },
      "id": "351ff928"
    },
    {
      "cell_type": "code",
      "source": [
        "import numpy as np\n",
        "\n",
        "# 6x3 o'lchamdagi matritsa\n",
        "matritsa1 = np.ones((6, 3))\n",
        "\n",
        "# 3x4 o'lchamdagi matritsa\n",
        "matritsa2 = np.ones((3, 4))\n",
        "\n",
        "# Matritsalarni ko'paytirish\n",
        "kopaytma = np.dot(matritsa1, matritsa2)\n",
        "\n",
        "print(\"Matritsa1:\")\n",
        "print(matritsa1)\n",
        "print(\"\\nMatritsa2:\")\n",
        "print(matritsa2)\n",
        "print(\"\\nKo'paytma:\")\n",
        "print(kopaytma)"
      ],
      "metadata": {
        "id": "e_5QUFcPLtVX",
        "colab": {
          "base_uri": "https://localhost:8080/"
        },
        "outputId": "e1265552-3232-4eec-8777-8d2d1e542cf0"
      },
      "id": "e_5QUFcPLtVX",
      "execution_count": 2,
      "outputs": [
        {
          "output_type": "stream",
          "name": "stdout",
          "text": [
            "Matritsa1:\n",
            "[[1. 1. 1.]\n",
            " [1. 1. 1.]\n",
            " [1. 1. 1.]\n",
            " [1. 1. 1.]\n",
            " [1. 1. 1.]\n",
            " [1. 1. 1.]]\n",
            "\n",
            "Matritsa2:\n",
            "[[1. 1. 1. 1.]\n",
            " [1. 1. 1. 1.]\n",
            " [1. 1. 1. 1.]]\n",
            "\n",
            "Ko'paytma:\n",
            "[[3. 3. 3. 3.]\n",
            " [3. 3. 3. 3.]\n",
            " [3. 3. 3. 3.]\n",
            " [3. 3. 3. 3.]\n",
            " [3. 3. 3. 3.]\n",
            " [3. 3. 3. 3.]]\n"
          ]
        }
      ]
    },
    {
      "cell_type": "markdown",
      "id": "6d0c506f",
      "metadata": {
        "id": "6d0c506f"
      },
      "source": [
        "#### 15. Quyidagi misol qanday natija beradi?\n",
        "\n",
        "```python\n",
        "print(sum(range(5),-1))\n",
        "from numpy import *\n",
        "print(sum(range(5),-1))\n",
        "```"
      ]
    },
    {
      "cell_type": "markdown",
      "source": [
        "#    javob\n",
        "1. print(sum(range(5),-1))\n",
        "\n",
        "\n",
        "2. from numpy import *\n",
        "\n",
        "\n",
        "3. print(sum(range(5),-1))\n",
        "\n",
        "\n",
        "\n",
        "1. print(sum(range(5), -1))\n",
        "\n",
        "Bu kod sum funksiyasini chaqiradi va range(5) ga asoslangan yig'indini hisoblaydi. range(5) 0 dan 4 gacha bo'lgan raqamlarni (ya'ni 0, 1, 2, 3, 4) yaratadi.\n",
        "\n",
        "Natija:\n",
        "\n",
        "Yig'indi: 0 + 1 + 2 + 3 + 4 = 10\n",
        "\n",
        "-1 qiymati sum funksiyasining ikkinchi argumenti sifatida kiritilgan bo'lib, bu yig'indiga qo'shiladi.\n",
        "\n",
        "\n",
        "Shuning uchun natija:\n",
        "\n",
        "10 - 1 = 9\n",
        "\n",
        "2. from numpy import *\n",
        "\n",
        "Bu qism NumPy kutubxonasidagi barcha funktsiyalar va o'zgaruvchilarni hozirgi muhitga import qiladi. Shuning uchun sum funksiyasi NumPy kutubxonasidan bo'ladi.\n",
        "\n",
        "3. print(sum(range(5), -1))\n",
        "\n",
        "Endi, NumPy kutubxonasining sum funksiyasidan foydalanilganda, natija bir oz o'zgaradi. NumPy'dagi sum funksiyasi faqat raqamlar massivlari yoki massivlari ustida ishlaydi.\n",
        "\n",
        "Bu funktsiya, range(5) ga kiritilgan ikkita argumentni qabul qiladi: birinchisi massiv (bu yerda, range(5)), ikkinchisi esa yig'indining boshlang'ich qiymati.\n",
        "\n",
        "range(5) NumPy tomonidan avtomatik ravishda massivga aylantiriladi, lekin sum funksiyasi xuddi shunday ishni qilmoqda.\n",
        "\n",
        "Natija:\n",
        "\n",
        "Yig'indi: 0 + 1 + 2 + 3 + 4 = 10\n",
        "\n",
        "-1 qiymati yig'indiga qo'shiladi.\n",
        "\n",
        "\n",
        "Natijada:\n",
        "\n",
        "10 - 1 = 9\n",
        "\n",
        "Yakuniy Natijalar:\n",
        "\n",
        "Ikki print bayonoti natijalari quyidagicha bo'ladi:\n",
        "\n",
        "9\n",
        "9"
      ],
      "metadata": {
        "id": "nNSnulhPGM-C"
      },
      "id": "nNSnulhPGM-C"
    },
    {
      "cell_type": "markdown",
      "id": "d6ad1a9f",
      "metadata": {
        "id": "d6ad1a9f"
      },
      "source": [
        "#### 16. NumPy kutubxonasi yordamida ikkita massivni solishtiring va ular usida quyidagi amallarni bajaring.\n",
        "\n",
        "```python\n",
        "Array a: [1 2]\n",
        "Array b: [4 5]\n",
        "a > b\n",
        "[False False]\n",
        "a >= b\n",
        "[False False]\n",
        "a < b\n",
        "[ True True]\n",
        "a <= b\n",
        "[ True True]\n",
        "```"
      ]
    },
    {
      "cell_type": "code",
      "execution_count": null,
      "id": "7ba3c441",
      "metadata": {
        "id": "7ba3c441",
        "colab": {
          "base_uri": "https://localhost:8080/"
        },
        "outputId": "bfcac12b-f19d-4e1c-cfd9-54d9790abd04"
      },
      "outputs": [
        {
          "output_type": "stream",
          "name": "stdout",
          "text": [
            "a > b: [False False]\n",
            "a >= b: [False False]\n",
            "a < b: [ True  True]\n",
            "a <= b: [ True  True]\n"
          ]
        }
      ],
      "source": [
        "a = np.array([1, 2])\n",
        "b = np.array([4, 5])\n",
        "\n",
        "# Solishtirish amallarini bajarish\n",
        "greater_than = a > b\n",
        "greater_than_or_equal = a >= b\n",
        "less_than = a < b\n",
        "less_than_or_equal = a <= b\n",
        "\n",
        "# Natijalarni chop etamiz\n",
        "print(\"a > b:\", greater_than)              # [False False]\n",
        "print(\"a >= b:\", greater_than_or_equal)    # [False False]\n",
        "print(\"a < b:\", less_than)                  # [ True  True]\n",
        "print(\"a <= b:\", less_than_or_equal)        # [ True  True]\n"
      ]
    },
    {
      "cell_type": "markdown",
      "id": "e3a7ba7f",
      "metadata": {
        "id": "e3a7ba7f"
      },
      "source": [
        "#### 17. Quyidagi misol qanday natija beradi?\n",
        "\n",
        "```python\n",
        "np.array(0) / np.array(0)\n",
        "np.array(0) // np.array(0)\n",
        "np.array([np.nan]).astype(int).astype(float)\n",
        "```"
      ]
    },
    {
      "cell_type": "code",
      "execution_count": null,
      "id": "b874734e",
      "metadata": {
        "id": "b874734e",
        "colab": {
          "base_uri": "https://localhost:8080/"
        },
        "outputId": "28b4ab89-b265-440b-d844-ac5da4414704"
      },
      "outputs": [
        {
          "output_type": "stream",
          "name": "stdout",
          "text": [
            "np.array(0) / np.array(0): nan\n",
            "np.array(0) // np.array(0): 0\n",
            "np.array([np.nan]).astype(int).astype(float): [-9.22337204e+18]\n"
          ]
        },
        {
          "output_type": "stream",
          "name": "stderr",
          "text": [
            "<ipython-input-26-0d412deb7464>:2: RuntimeWarning: invalid value encountered in divide\n",
            "  np.array(0) / np.array(0)\n",
            "<ipython-input-26-0d412deb7464>:10: RuntimeWarning: invalid value encountered in divide\n",
            "  result1 = np.array(0) / np.array(0)\n",
            "<ipython-input-26-0d412deb7464>:15: RuntimeWarning: divide by zero encountered in floor_divide\n",
            "  np.array(0) // np.array(0)\n",
            "<ipython-input-26-0d412deb7464>:21: RuntimeWarning: divide by zero encountered in floor_divide\n",
            "  result2 = np.array(0) // np.array(0)\n",
            "<ipython-input-26-0d412deb7464>:26: RuntimeWarning: invalid value encountered in cast\n",
            "  np.array([np.nan]).astype(int).astype(float)\n",
            "<ipython-input-26-0d412deb7464>:32: RuntimeWarning: invalid value encountered in cast\n",
            "  result3 = np.array([np.nan]).astype(int).astype(float)\n"
          ]
        }
      ],
      "source": [
        "import numpy as np\n",
        "np.array(0) / np.array(0)\n",
        "\n",
        "#Bu ifoda noldan bo'lish operatsiyasini ifodalaydi. NumPy bu holatda RuntimeWarning chiqaradi va natijada NaN (Not a Number) qiymatini beradi.\n",
        "\n",
        "#Natija:\n",
        "\n",
        "import numpy as np\n",
        "\n",
        "result1 = np.array(0) / np.array(0)\n",
        "print(\"np.array(0) / np.array(0):\", result1)\n",
        "\n",
        "#Natija: nan va ogohlantirish: RuntimeWarning: invalid value encountered in true_divide\n",
        "\n",
        "np.array(0) // np.array(0)\n",
        "\n",
        "#Bu ifoda noldan bo'lish operatsiyasi, ammo bu holatda // (butun bo'lish) operatsiyasi ishlatilgan. Bu ham noldan bo'lish holatini keltirib chiqaradi va natijada NaN beradi.\n",
        "\n",
        "#Natija:\n",
        "\n",
        "result2 = np.array(0) // np.array(0)\n",
        "print(\"np.array(0) // np.array(0):\", result2)\n",
        "\n",
        "#Natija: nan va ogohlantirish: RuntimeWarning: invalid value encountered in floor_divide\n",
        "\n",
        "np.array([np.nan]).astype(int).astype(float)\n",
        "\n",
        "#Bu ifoda np.nan qiymatini int turiga o'zgartirishga harakat qiladi. np.nan qiymatini butun son sifatida olish mumkin emas, shuning uchun bu ham ValueError chiqaradi.\n",
        "\n",
        "#Natija:\n",
        "\n",
        "result3 = np.array([np.nan]).astype(int).astype(float)\n",
        "print(\"np.array([np.nan]).astype(int).astype(float):\", result3)\n",
        "\n",
        "#Natija: ValueError: cannot convert float NaN to integer\n",
        "\n",
        "#Umumiy Natijalar:\n",
        "\n",
        "#np.array(0) / np.array(0) → nan (RuntimeWarning)\n",
        "\n",
        "#np.array(0) // np.array(0) → nan (RuntimeWarning)\n",
        "\n",
        "#np.array([np.nan]).astype(int).astype(float) → ValueError"
      ]
    },
    {
      "cell_type": "markdown",
      "id": "6d17ab5d",
      "metadata": {
        "id": "6d17ab5d"
      },
      "source": [
        "#### 18. Ikkita massiv yarating va ular orasidagi umumiy qiymatlarni toping\n"
      ]
    },
    {
      "cell_type": "markdown",
      "source": [
        "`💡Ishora` np.intersect1d"
      ],
      "metadata": {
        "id": "4c4e2c5e"
      },
      "id": "4c4e2c5e"
    },
    {
      "cell_type": "code",
      "source": [
        "import numpy as np\n",
        "\n",
        "# Ikkita massiv yaratamiz\n",
        "massiv_a = np.array([1, 2, 3, 4, 5, 6])\n",
        "massiv_b = np.array([4, 5, 6, 7, 8, 9])\n",
        "\n",
        "# Umumiy qiymatlarni topamiz\n",
        "umumiy_qiymatlar = np.intersect1d(massiv_a, massiv_b)\n",
        "\n",
        "# Natijalarni chop etamiz\n",
        "print(\"Massiv A:\", massiv_a)\n",
        "print(\"Massiv B:\", massiv_b)\n",
        "print(\"Umumiy qiymatlar:\", umumiy_qiymatlar)"
      ],
      "metadata": {
        "id": "Dxz5P8WpMeAP",
        "colab": {
          "base_uri": "https://localhost:8080/"
        },
        "outputId": "8319e183-c008-45cf-b169-88e26a577817"
      },
      "id": "Dxz5P8WpMeAP",
      "execution_count": null,
      "outputs": [
        {
          "output_type": "stream",
          "name": "stdout",
          "text": [
            "Massiv A: [1 2 3 4 5 6]\n",
            "Massiv B: [4 5 6 7 8 9]\n",
            "Umumiy qiymatlar: [4 5 6]\n"
          ]
        }
      ]
    },
    {
      "cell_type": "markdown",
      "id": "8837119b",
      "metadata": {
        "id": "8837119b"
      },
      "source": [
        "#### 19. Tasodifiy sonlardan iborat bo'lgan massiv yarating, so'ng ularni quyida berilgan 4 xil usul yordamida musbat sonlarning butun qismini ajratib oling."
      ]
    },
    {
      "cell_type": "markdown",
      "source": [
        "`💡Ishora` %, np.floor, astype, np.trunc"
      ],
      "metadata": {
        "id": "2b05c544"
      },
      "id": "2b05c544"
    },
    {
      "cell_type": "code",
      "source": [
        "import numpy as np\n",
        "\n",
        "# Tasodifiy sonlardan iborat massiv yaratamiz\n",
        "massiv = np.random.uniform(-10, 10, size=10)  # -10 dan 10 gacha tasodifiy sonlar\n",
        "print(\"Tasodifiy massiv:\")\n",
        "print(massiv)\n",
        "\n",
        "# 1. % operatori yordamida\n",
        "musbat_butun_mod = massiv[massiv > 0] % 1\n",
        "musbat_butun_mod = (musbat_butun_mod > 0).astype(int)\n",
        "print(\"\\n% operatori yordamida musbat sonlarning butun qismi (0 yoki 1):\")\n",
        "print(musbat_butun_mod)\n",
        "\n",
        "# 2. np.floor yordamida\n",
        "musbat_butun_floor = np.floor(massiv[massiv > 0])\n",
        "print(\"\\nnp.floor yordamida musbat sonlarning butun qismi:\")\n",
        "print(musbat_butun_floor)\n",
        "\n",
        "# 3. astype yordamida\n",
        "musbat_butun_astype = massiv[massiv > 0].astype(int)\n",
        "print(\"\\nastype yordamida musbat sonlarning butun qismi:\")\n",
        "print(musbat_butun_astype)\n",
        "\n",
        "# 4. np.trunc yordamida\n",
        "musbat_butun_trunc = np.trunc(massiv[massiv > 0])\n",
        "print(\"\\nnp.trunc yordamida musbat sonlarning butun qismi:\")\n",
        "print(musbat_butun_trunc)"
      ],
      "metadata": {
        "id": "jc6wN5WWMpS3",
        "colab": {
          "base_uri": "https://localhost:8080/"
        },
        "outputId": "51490eb9-97b0-4017-e1a3-5ed1385c777f"
      },
      "id": "jc6wN5WWMpS3",
      "execution_count": null,
      "outputs": [
        {
          "output_type": "stream",
          "name": "stdout",
          "text": [
            "Tasodifiy massiv:\n",
            "[ 2.52701445  7.39159312 -6.99737197 -6.3694309   7.25045717  4.11157905\n",
            " -2.03329702 -9.45857842  3.84341235  9.92366939]\n",
            "\n",
            "% operatori yordamida musbat sonlarning butun qismi (0 yoki 1):\n",
            "[1 1 1 1 1 1]\n",
            "\n",
            "np.floor yordamida musbat sonlarning butun qismi:\n",
            "[2. 7. 7. 4. 3. 9.]\n",
            "\n",
            "astype yordamida musbat sonlarning butun qismi:\n",
            "[2 7 7 4 3 9]\n",
            "\n",
            "np.trunc yordamida musbat sonlarning butun qismi:\n",
            "[2. 7. 7. 4. 3. 9.]\n"
          ]
        }
      ]
    },
    {
      "cell_type": "markdown",
      "id": "ec788c9f",
      "metadata": {
        "id": "ec788c9f"
      },
      "source": [
        "#### 20. O'lchovlari 3x3 matritsa yarating, ularning qator qiymatlari 0 dan 2 gacha bo'lsin.\n",
        "\n"
      ]
    },
    {
      "cell_type": "markdown",
      "source": [
        "`💡Ishora` np.arange"
      ],
      "metadata": {
        "id": "c3980b2c"
      },
      "id": "c3980b2c"
    },
    {
      "cell_type": "code",
      "source": [
        "import numpy as np\n",
        "\n",
        "# 0 dan 2 gacha bo'lgan qiymatlar bilan matritsa yaratamiz\n",
        "matritsa = np.array([[0, 1, 2],\n",
        "                      [0, 1, 2],\n",
        "                      [0, 1, 2]])\n",
        "\n",
        "# Natijalarni chop etish\n",
        "print(\"3x3 matritsa:\")\n",
        "print(matritsa)"
      ],
      "metadata": {
        "id": "ycz3jw4bM0Xk",
        "colab": {
          "base_uri": "https://localhost:8080/"
        },
        "outputId": "098a5b35-eeb0-428e-a209-56d10a125c53"
      },
      "id": "ycz3jw4bM0Xk",
      "execution_count": null,
      "outputs": [
        {
          "output_type": "stream",
          "name": "stdout",
          "text": [
            "3x3 matritsa:\n",
            "[[0 1 2]\n",
            " [0 1 2]\n",
            " [0 1 2]]\n"
          ]
        }
      ]
    },
    {
      "cell_type": "markdown",
      "id": "391791e0",
      "metadata": {
        "id": "391791e0"
      },
      "source": [
        "#### 21. O'chamlari 10 bo'lgan tasodifiy vektor yarating va uni o'sish tartibida chiqaruvchi dastur tuzing.\n",
        "\n"
      ]
    },
    {
      "cell_type": "markdown",
      "source": [
        "`💡Ishora` sort"
      ],
      "metadata": {
        "id": "ada71c06"
      },
      "id": "ada71c06"
    },
    {
      "cell_type": "code",
      "source": [
        "\n",
        "import numpy as np\n",
        "\n",
        "# O'lchami 10 bo'lgan tasodifiy vektor yaratamiz\n",
        "vektor = np.random.rand(10)  # 0 dan 1 gacha tasodifiy raqamlar\n",
        "\n",
        "# Vektorni o'sish tartibida saralash\n",
        "saralangan_vektor = np.sort(vektor)  # yoki vektor.sort()\n",
        "\n",
        "# Natijalarni chop etish\n",
        "print(\"Original vektor:\", vektor)\n",
        "print(\"O'sish tartibida saralangan vektor:\", saralangan_vektor)"
      ],
      "metadata": {
        "id": "TPMqaavROM7g",
        "colab": {
          "base_uri": "https://localhost:8080/"
        },
        "outputId": "a0685772-387e-4dc7-ec44-359dc021e18b"
      },
      "id": "TPMqaavROM7g",
      "execution_count": null,
      "outputs": [
        {
          "output_type": "stream",
          "name": "stdout",
          "text": [
            "Original vektor: [0.54696054 0.55366259 0.15196283 0.60307877 0.46737122 0.22105846\n",
            " 0.79192729 0.34600726 0.7942583  0.96553208]\n",
            "O'sish tartibida saralangan vektor: [0.15196283 0.22105846 0.34600726 0.46737122 0.54696054 0.55366259\n",
            " 0.60307877 0.79192729 0.7942583  0.96553208]\n"
          ]
        }
      ]
    },
    {
      "cell_type": "markdown",
      "id": "1e74d39e",
      "metadata": {
        "id": "1e74d39e"
      },
      "source": [
        "#### 22. Ikki tasodifiy A va B massiv yarating, ularning tengligini tekshiring"
      ]
    },
    {
      "cell_type": "markdown",
      "source": [
        "`💡Ishora` np.allclose, np.array_equal"
      ],
      "metadata": {
        "id": "eb0e066c"
      },
      "id": "eb0e066c"
    },
    {
      "cell_type": "code",
      "source": [
        "import numpy as np\n",
        "\n",
        "# Ikkita mahsulotiy massiv yaratamiz\n",
        "A = np.array([1.0, 2.0, 3.0])\n",
        "B = np.array([1.0, 2.0, 3.0])\n",
        "C = np.array([1.0, 2.0, 3.0000001])  # B dan biroz farq qiladi\n",
        "\n",
        "# Massivlarni tengligini tekshirish\n",
        "teng_mi = np.array_equal(A, B)  # To'g'ridan-to'g'ri tenglik\n",
        "yaqin_teng_mi = np.allclose(A, C)  # Toqat oralig'ida tenglik\n",
        "\n",
        "# Natijalarni chop etish\n",
        "print(\"A va B massivlari tengmi:\", teng_mi)  # True\n",
        "print(\"A va C massivlari yaqindan tengmi:\", yaqin_teng_mi)  # True\n"
      ],
      "metadata": {
        "id": "xHNWNZnwOT1r",
        "colab": {
          "base_uri": "https://localhost:8080/"
        },
        "outputId": "3f66d99c-3279-4f51-92fe-39532fd90a58"
      },
      "id": "xHNWNZnwOT1r",
      "execution_count": null,
      "outputs": [
        {
          "output_type": "stream",
          "name": "stdout",
          "text": [
            "A va B massivlari tengmi: True\n",
            "A va C massivlari yaqindan tengmi: True\n"
          ]
        }
      ]
    },
    {
      "cell_type": "markdown",
      "id": "78250c14",
      "metadata": {
        "id": "78250c14"
      },
      "source": [
        "#### 23. O'lchamlari 6x3 va 3x4 matritsa tuzing va ularni o'zaro ko'paytiring.\n"
      ]
    },
    {
      "cell_type": "markdown",
      "source": [
        "`💡Ishora` np.dot or np.ones"
      ],
      "metadata": {
        "id": "2e482afe"
      },
      "id": "2e482afe"
    },
    {
      "cell_type": "code",
      "source": [
        "import numpy as np\n",
        "\n",
        "# 6x3 o'lchamdagi tasodifiy matritsa\n",
        "matritsa1 = np.random.rand(6, 3)\n",
        "\n",
        "# 3x4 o'lchamdagi tasodifiy matritsa\n",
        "matritsa2 = np.random.rand(3, 4)\n",
        "\n",
        "# Matritsalarni ko'paytirish\n",
        "natija = np.dot(matritsa1, matritsa2)\n",
        "\n",
        "# Natijalarni chop etish\n",
        "print(\"6x3 o'lchamdagi matritsa:\\n\", matritsa1)\n",
        "print(\"\\n3x4 o'lchamdagi matritsa:\\n\", matritsa2)\n",
        "print(\"\\nNatija (6x4 o'lchamdagi):\\n\", natija)"
      ],
      "metadata": {
        "id": "ZRlMgdT9POgS",
        "colab": {
          "base_uri": "https://localhost:8080/"
        },
        "outputId": "a2c0b485-498f-4899-d9e3-75d53de578d0"
      },
      "id": "ZRlMgdT9POgS",
      "execution_count": null,
      "outputs": [
        {
          "output_type": "stream",
          "name": "stdout",
          "text": [
            "6x3 o'lchamdagi matritsa:\n",
            " [[0.0788513  0.0765966  0.36713286]\n",
            " [0.8837699  0.41926858 0.41313695]\n",
            " [0.59889482 0.93758488 0.62245166]\n",
            " [0.97166167 0.54555593 0.87482531]\n",
            " [0.84059377 0.56043464 0.62313579]\n",
            " [0.44990076 0.25344787 0.58926436]]\n",
            "\n",
            "3x4 o'lchamdagi matritsa:\n",
            " [[0.25459159 0.53213192 0.49446855 0.32243088]\n",
            " [0.73087094 0.1086422  0.57275947 0.49288663]\n",
            " [0.11363315 0.17712797 0.0347532  0.67450985]]\n",
            "\n",
            "Natija (6x4 o'lchamdagi):\n",
            " [[0.11777557 0.11531041 0.09561996 0.31081226]\n",
            " [0.57837766 0.58901054 0.69149431 0.77027152]\n",
            " [0.90845827 0.53080593 0.85477746 1.07507501]\n",
            " [0.74551702 0.73127862 0.82333145 1.17226924]\n",
            " [0.69442238 0.61856841 0.7582974  0.96757536]\n",
            " [0.3667386  0.37131689 0.38810527 0.66744758]]\n"
          ]
        }
      ]
    },
    {
      "cell_type": "markdown",
      "id": "51898680",
      "metadata": {
        "id": "51898680"
      },
      "source": [
        "#### 24. Tasodifiy sonlardan iborat bo'lgan o'lchami 5 ga teng vektor yarating, so'ng uning eng katta qiymatini 0 ga o'zgartiring.\n"
      ]
    },
    {
      "cell_type": "markdown",
      "source": [
        "`💡Ishora` argmax"
      ],
      "metadata": {
        "id": "ee92ccaf"
      },
      "id": "ee92ccaf"
    },
    {
      "cell_type": "code",
      "source": [
        "import numpy as np\n",
        "\n",
        "# Tasodifiy sonlardan iborat bo'lgan o'lchami 5 ga teng vektor yaratish\n",
        "vektor = np.random.rand(5)  # [0, 1) oraliqda tasodifiy sonlar\n",
        "\n",
        "# Eng katta qiymatini topish\n",
        "eng_katta_idx = np.argmax(vektor)\n",
        "\n",
        "# Eng katta qiymatini 0 ga o'zgartirish\n",
        "vektor[eng_katta_idx] = 0\n",
        "\n",
        "# Natijalarni chop etish\n",
        "print(\"Tasodifiy vektor:\", vektor)\n",
        "print(\"Eng katta qiymat 0 ga o'zgartirildi.\")"
      ],
      "metadata": {
        "id": "v9DvyaTNPk_t",
        "colab": {
          "base_uri": "https://localhost:8080/"
        },
        "outputId": "15a1f2c3-7de8-410a-d1ee-6f93b84faf1b"
      },
      "id": "v9DvyaTNPk_t",
      "execution_count": null,
      "outputs": [
        {
          "output_type": "stream",
          "name": "stdout",
          "text": [
            "Tasodifiy vektor: [0.52230454 0.03297136 0.         0.31044288 0.90492579]\n",
            "Eng katta qiymat 0 ga o'zgartirildi.\n"
          ]
        }
      ]
    },
    {
      "cell_type": "markdown",
      "id": "129c342d",
      "metadata": {
        "id": "129c342d"
      },
      "source": [
        "#### 25. NumPy kutubxonasi yordamida kecha, bugun va ertangi kun sanalarini aniqlang.\n"
      ]
    },
    {
      "cell_type": "markdown",
      "source": [
        "`💡Ishora` np.datetime64, np.timedelta64"
      ],
      "metadata": {
        "id": "0fd2f947"
      },
      "id": "0fd2f947"
    },
    {
      "cell_type": "code",
      "source": [
        "import numpy as np\n",
        "\n",
        "# Bugun\n",
        "bugun = np.datetime64('today', 'D')\n",
        "\n",
        "# Kecha va ertangi kun sanalarini aniqlash\n",
        "kecha = bugun - np.timedelta64(1, 'D')  # 1 kun kamaytirish\n",
        "ertaga = bugun + np.timedelta64(1, 'D')  # 1 kun qo'shish\n",
        "\n",
        "# Natijalarni chop etish\n",
        "print(\"Kecha:\", kecha)\n",
        "print(\"Bugun:\", bugun)\n",
        "print(\"Ertaga:\", ertaga)\n"
      ],
      "metadata": {
        "id": "dlljRGxkSitd",
        "colab": {
          "base_uri": "https://localhost:8080/"
        },
        "outputId": "571c2e98-4fce-4a5c-a571-8f1bf7a72d73"
      },
      "id": "dlljRGxkSitd",
      "execution_count": null,
      "outputs": [
        {
          "output_type": "stream",
          "name": "stdout",
          "text": [
            "Kecha: 2024-10-21\n",
            "Bugun: 2024-10-22\n",
            "Ertaga: 2024-10-23\n"
          ]
        }
      ]
    },
    {
      "cell_type": "markdown",
      "id": "42f8b2f9",
      "metadata": {
        "id": "42f8b2f9"
      },
      "source": [
        "#### 26. 2016 yil yanvar oyiga to'g'ri keladigan barcha sanalarni NumPy kutubxonasi yordamida aniqlang.\n"
      ]
    },
    {
      "cell_type": "markdown",
      "source": [
        "`💡Ishora` np.arange(dtype=datetime64['D'])"
      ],
      "metadata": {
        "id": "SU1BWcA8Sw2M"
      },
      "id": "SU1BWcA8Sw2M"
    },
    {
      "cell_type": "code",
      "execution_count": null,
      "id": "5ad086b0",
      "metadata": {
        "id": "5ad086b0",
        "colab": {
          "base_uri": "https://localhost:8080/"
        },
        "outputId": "c9702ac9-cabb-43b7-cf12-d4f57ed3dbbd"
      },
      "outputs": [
        {
          "output_type": "stream",
          "name": "stdout",
          "text": [
            "2016 yil yanvar oyiga to'g'ri keladigan sanalar:\n",
            "['2016-01-01' '2016-01-02' '2016-01-03' '2016-01-04' '2016-01-05'\n",
            " '2016-01-06' '2016-01-07' '2016-01-08' '2016-01-09' '2016-01-10'\n",
            " '2016-01-11' '2016-01-12' '2016-01-13' '2016-01-14' '2016-01-15'\n",
            " '2016-01-16' '2016-01-17' '2016-01-18' '2016-01-19' '2016-01-20'\n",
            " '2016-01-21' '2016-01-22' '2016-01-23' '2016-01-24' '2016-01-25'\n",
            " '2016-01-26' '2016-01-27' '2016-01-28' '2016-01-29' '2016-01-30'\n",
            " '2016-01-31']\n"
          ]
        }
      ],
      "source": [
        "import numpy as np\n",
        "\n",
        "# 2016 yil yanvar oyining birinchi va oxirgi sanalarini belgilaymiz\n",
        "start_date = np.datetime64('2016-01-01')\n",
        "end_date = np.datetime64('2016-02-01')  # 1 fevralga qadar\n",
        "\n",
        "# np.arange yordamida sanalarni yaratamiz\n",
        "january_dates = np.arange(start_date, end_date, dtype='datetime64[D]')\n",
        "\n",
        "# Natijani chop etamiz\n",
        "print(\"2016 yil yanvar oyiga to'g'ri keladigan sanalar:\")\n",
        "print(january_dates)"
      ]
    },
    {
      "cell_type": "markdown",
      "id": "486df8ea",
      "metadata": {
        "id": "486df8ea"
      },
      "source": [
        "#### 27. 4 xil usul yordamida musbat sonlarning tasodifiy massivining butun son qismini ajratib oling.\n"
      ]
    },
    {
      "cell_type": "markdown",
      "source": [
        "`💡Ishora` %, np.floor, astype, np.trunc`"
      ],
      "metadata": {
        "id": "h4QM3bp9TDhb"
      },
      "id": "h4QM3bp9TDhb"
    },
    {
      "cell_type": "code",
      "execution_count": null,
      "id": "2680c1ca",
      "metadata": {
        "id": "2680c1ca",
        "colab": {
          "base_uri": "https://localhost:8080/"
        },
        "outputId": "ee1db7a0-71d3-430a-92eb-f7a6a109b6c9"
      },
      "outputs": [
        {
          "output_type": "stream",
          "name": "stdout",
          "text": [
            "Asl massiv:\n",
            "[1 2 2 3 4 4 4 5 5]\n",
            "\n",
            "1-usul (modulus):\n",
            "[]\n",
            "\n",
            "2-usul (np.floor):\n",
            "[]\n",
            "\n",
            "3-usul (astype):\n",
            "[]\n",
            "\n",
            "4-usul (np.trunc):\n",
            "[]\n"
          ]
        }
      ],
      "source": [
        "print(\"Asl massiv:\")\n",
        "print(massiv)\n",
        "\n",
        "# 1. Usul: % (modulus) yordamida butun sonlarni olib tashlash\n",
        "natijaviy_massiv1 = massiv[massiv % 1 != 0]  # Butun son bo'lmaganlarni tanlash\n",
        "print(\"\\n1-usul (modulus):\")\n",
        "print(natijaviy_massiv1)\n",
        "\n",
        "# 2. Usul: np.floor yordamida butun sonlarni olib tashlash\n",
        "natijaviy_massiv2 = massiv[massiv != np.floor(massiv)]  # Butun son bo'lmaganlarni tanlash\n",
        "print(\"\\n2-usul (np.floor):\")\n",
        "print(natijaviy_massiv2)\n",
        "\n",
        "# 3. Usul: astype yordamida butun sonlarni olib tashlash\n",
        "natijaviy_massiv3 = massiv[massiv.astype(int) != massiv]  # Butun son bo'lmaganlarni tanlash\n",
        "print(\"\\n3-usul (astype):\")\n",
        "print(natijaviy_massiv3)\n",
        "\n",
        "# 4. Usul: np.trunc yordamida butun sonlarni olib tashlash\n",
        "natijaviy_massiv4 = massiv[massiv != np.trunc(massiv)]  # Butun son bo'lmaganlarni tanlash\n",
        "print(\"\\n4-usul (np.trunc):\")\n",
        "print(natijaviy_massiv4)"
      ]
    },
    {
      "cell_type": "markdown",
      "id": "6415f02e",
      "metadata": {
        "id": "6415f02e"
      },
      "source": [
        "#### 28. Ixtiyoriy kichik massivlar yarating, ular yeg'indisini np.sum funksiyasidanda tezroq hisoblovchi dastur tuzing.\n"
      ]
    },
    {
      "cell_type": "markdown",
      "source": [
        "`💡Ishora` np.add.reduce"
      ],
      "metadata": {
        "id": "129e785f"
      },
      "id": "129e785f"
    },
    {
      "cell_type": "code",
      "source": [
        "import numpy as np\n",
        "\n",
        "# Ixtiyoriy kichik massivlar yaratamiz\n",
        "massiv1 = np.array([1, 2, 3])\n",
        "massiv2 = np.array([4, 5, 6])\n",
        "massiv3 = np.array([7, 8, 9])\n",
        "\n",
        "# Massivlarni ro'yxatga joylashtirish\n",
        "massivlar = [massiv1, massiv2, massiv3]\n",
        "\n",
        "# Har bir massiv uchun yig'indini hisoblash\n",
        "for i, m in enumerate(massivlar, start=1):\n",
        "    yigindi = np.add.reduce(m)  # Yig'indini hisoblash\n",
        "    print(f\"Massiv {i}: {m}, Yig'indi: {yigindi}\")"
      ],
      "metadata": {
        "id": "M0Xv2bB9VYQZ",
        "colab": {
          "base_uri": "https://localhost:8080/"
        },
        "outputId": "98b04592-96df-422b-d7a1-c1bcaada66c9"
      },
      "id": "M0Xv2bB9VYQZ",
      "execution_count": null,
      "outputs": [
        {
          "output_type": "stream",
          "name": "stdout",
          "text": [
            "Massiv 1: [1 2 3], Yig'indi: 6\n",
            "Massiv 2: [4 5 6], Yig'indi: 15\n",
            "Massiv 3: [7 8 9], Yig'indi: 24\n"
          ]
        }
      ]
    },
    {
      "cell_type": "markdown",
      "id": "58be9dd4",
      "metadata": {
        "id": "58be9dd4"
      },
      "source": [
        "#### 29. [1, 2, 3, 4, 5] vektor berilgan, har bir qiymat orasiga ketma-ket 3 ta nol raqamini yozuvchi dastur tuzing.\n"
      ]
    },
    {
      "cell_type": "markdown",
      "source": [
        "`💡Ishora` array[::4]"
      ],
      "metadata": {
        "id": "9cf9e134"
      },
      "id": "9cf9e134"
    },
    {
      "cell_type": "code",
      "source": [
        "import numpy as np\n",
        "\n",
        "# Berilgan massiv\n",
        "vektor = np.array([1, 2, 3, 4, 5])\n",
        "\n",
        "# Har bir qiymatdan keyin 3 ta nol qo'shish\n",
        "yangi_massiv = np.zeros((len(vektor) * 4,), dtype=int)  # Yangidan massiv yaratish\n",
        "yangi_massiv[::4] = vektor  # Har to'rtinchi elementga vektor qiymatini qo'shish\n",
        "\n",
        "# Natijani chop etish\n",
        "print(\"Yangi massiv:\")\n",
        "print(yangi_massiv)"
      ],
      "metadata": {
        "id": "04IuJ2jaZeYu",
        "colab": {
          "base_uri": "https://localhost:8080/"
        },
        "outputId": "6a9e0474-2804-4fcb-cde9-bae646f05819"
      },
      "id": "04IuJ2jaZeYu",
      "execution_count": null,
      "outputs": [
        {
          "output_type": "stream",
          "name": "stdout",
          "text": [
            "Yangi massiv:\n",
            "[1 0 0 0 2 0 0 0 3 0 0 0 4 0 0 0 5 0 0 0]\n"
          ]
        }
      ]
    },
    {
      "cell_type": "markdown",
      "id": "781fa236",
      "metadata": {
        "id": "781fa236"
      },
      "source": [
        "#### 30. Quyidagi a massiv berilgan, a = [1,2,3,4,5,6,7,8,9,10,11,12,13,14] undan foydalangan holda siz quyidagi b massivni yarata olasizmi, b = [[1,2,3,4], [2,3,4,5], [3,4,5,6], ..., [11,12,13,14]]?\n"
      ]
    },
    {
      "cell_type": "markdown",
      "source": [
        "`💡Ishora` stride_tricks.as_strided"
      ],
      "metadata": {
        "id": "82e3d17e"
      },
      "id": "82e3d17e"
    },
    {
      "cell_type": "code",
      "source": [
        "import numpy as np\n",
        "\n",
        "# Berilgan massiv\n",
        "a = np.array([1, 2, 3, 4, 5, 6, 7, 8, 9, 10, 11, 12, 13, 14])\n",
        "\n",
        "# Massivning o'lchovlari\n",
        "n = 4  # Har bir ichki massivda qancha element bo'lishi\n",
        "m = len(a) - n + 1  # Yangilangan o'lchovlar\n",
        "\n",
        "# as_strided yordamida yangi massivni yaratish\n",
        "b = np.lib.stride_tricks.as_strided(a, shape=(m, n), strides=(a.strides[0], a.strides[0]))\n",
        "\n",
        "# Natijani chop etish\n",
        "print(\"b massiv:\")\n",
        "print(b)"
      ],
      "metadata": {
        "id": "S1H6ivCua3NZ"
      },
      "id": "S1H6ivCua3NZ",
      "execution_count": null,
      "outputs": []
    },
    {
      "cell_type": "markdown",
      "id": "7d8dc135",
      "metadata": {
        "id": "7d8dc135"
      },
      "source": [
        "#### 31. Ixtiyoriy sonlardan tashkil topgan massiv yarating, unga o'xshash qiymatlar kiriting. So'ng, o'xshash qiymatlarni topuvchi dastur tuzing.\n"
      ]
    },
    {
      "cell_type": "markdown",
      "source": [
        "`💡Ishora` np.bincount, argmax"
      ],
      "metadata": {
        "id": "81844e99"
      },
      "id": "81844e99"
    },
    {
      "cell_type": "code",
      "source": [
        "import numpy as np\n",
        "\n",
        "# Ixtiyoriy sonlardan tashkil topgan massiv\n",
        "massiv = np.array([1, 2, 2, 3, 4, 4, 4, 5, 5])\n",
        "\n",
        "# O'xshash qiymatlarni hisoblash\n",
        "uxshash_qiymatlar = np.bincount(massiv)\n",
        "\n",
        "# Eng ko'p uchraydigan qiymatni topish\n",
        "eng_kop_uchraydigan_qiymat = np.argmax(uxshash_qiymatlar)\n",
        "\n",
        "# Natijalarni chop etish\n",
        "print(\"Massiv:\", massiv)\n",
        "print(\"Eng ko'p uchraydigan qiymat:\", eng_kop_uchraydigan_qiymat)\n",
        "print(\"Uchirish soni:\", uxshash_qiymatlar[eng_kop_uchraydigan_qiymat])"
      ],
      "metadata": {
        "id": "SiRaNwxjbaQN",
        "colab": {
          "base_uri": "https://localhost:8080/"
        },
        "outputId": "1b73bc27-833d-4d25-e047-f2d70356a20b"
      },
      "id": "SiRaNwxjbaQN",
      "execution_count": null,
      "outputs": [
        {
          "output_type": "stream",
          "name": "stdout",
          "text": [
            "Massiv: [1 2 2 3 4 4 4 5 5]\n",
            "Eng ko'p uchraydigan qiymat: 4\n",
            "Uchirish soni: 3\n"
          ]
        }
      ]
    },
    {
      "cell_type": "markdown",
      "source": [
        "#### BONUS!\n",
        "\n",
        "`💡O'zingiz javob berishni istagan savolni kiriting va unga javob bering!`"
      ],
      "metadata": {
        "id": "URzxwwODb0m_"
      },
      "id": "URzxwwODb0m_"
    },
    {
      "cell_type": "markdown",
      "source": [
        "Savol: NumPy kutubxonasida massivlarni birlashtirish uchun qanday funksiyalar mavjud?"
      ],
      "metadata": {
        "id": "3-wrYHR38qG9"
      },
      "id": "3-wrYHR38qG9"
    },
    {
      "cell_type": "markdown",
      "source": [
        "Javob: NumPy kutubxonasida massivlarni birlashtirish uchun bir nechta funksiyalar mavjud. Ular orasida eng ko'p ishlatiladiganlari:"
      ],
      "metadata": {
        "id": "XCpcKm4d9BZC"
      },
      "id": "XCpcKm4d9BZC"
    },
    {
      "cell_type": "markdown",
      "source": [
        "1. np.concatenate(): Bu funksiya bir nechta massivlarni belgilangan o'lcham bo'yicha birlashtiradi. Masalan:"
      ],
      "metadata": {
        "id": "_0v0gw9v8r7L"
      },
      "id": "_0v0gw9v8r7L"
    },
    {
      "cell_type": "code",
      "source": [
        "import numpy as np\n",
        "\n",
        "a = np.array([1, 2, 3])\n",
        "b = np.array([4, 5, 6])\n",
        "birlashtirilgan = np.concatenate((a, b))\n",
        "print(birlashtirilgan)  # Natija: [1 2 3 4 5 6]"
      ],
      "metadata": {
        "id": "9xpR0GVrbzuk",
        "colab": {
          "base_uri": "https://localhost:8080/"
        },
        "outputId": "357c2c8e-62f2-476d-d8cb-72e3af7330f4"
      },
      "id": "9xpR0GVrbzuk",
      "execution_count": 12,
      "outputs": [
        {
          "output_type": "stream",
          "name": "stdout",
          "text": [
            "[1 2 3 4 5 6]\n"
          ]
        }
      ]
    },
    {
      "cell_type": "markdown",
      "source": [
        "2. np.vstack(): Bu funksiya ikki yoki undan ortiq 1D massivlarni vertikal ravishda birlashtiradi. Masalan:"
      ],
      "metadata": {
        "id": "zBwgXnbk9M6X"
      },
      "id": "zBwgXnbk9M6X"
    },
    {
      "cell_type": "code",
      "source": [
        "import numpy as np\n",
        "c = np.array([[1, 2, 3]])\n",
        "d = np.array([[4, 5, 6]])\n",
        "vertikal_birlashtirilgan = np.vstack((c, d))\n",
        "print(vertikal_birlashtirilgan)\n",
        "# Natija: [[1 2 3]\n",
        "#          [4 5 6]]"
      ],
      "metadata": {
        "colab": {
          "base_uri": "https://localhost:8080/"
        },
        "id": "_SZNZJ7y9Q-z",
        "outputId": "812452f0-c7a1-4a31-f5d6-497dd19ef18b"
      },
      "id": "_SZNZJ7y9Q-z",
      "execution_count": 13,
      "outputs": [
        {
          "output_type": "stream",
          "name": "stdout",
          "text": [
            "[[1 2 3]\n",
            " [4 5 6]]\n"
          ]
        }
      ]
    },
    {
      "cell_type": "markdown",
      "source": [
        "3. np.hstack(): Bu funksiya ikki yoki undan ortiq 1D massivlarni gorizontal ravishda birlashtiradi. Masalan:"
      ],
      "metadata": {
        "id": "9Hb-wK4U9fMh"
      },
      "id": "9Hb-wK4U9fMh"
    },
    {
      "cell_type": "code",
      "source": [
        "import numpy as np\n",
        "e = np.array([[1], [2], [3]])\n",
        "f = np.array([[4], [5], [6]])\n",
        "gorizontal_birlashtirilgan = np.hstack((e, f))\n",
        "print(gorizontal_birlashtirilgan)\n",
        "# Natija: [[1 4]\n",
        "#          [2 5]\n",
        "#          [3 6]]"
      ],
      "metadata": {
        "colab": {
          "base_uri": "https://localhost:8080/"
        },
        "id": "bk00mNyQ9jjr",
        "outputId": "23faa8de-7c4e-48da-df38-7b1a5e30ea02"
      },
      "id": "bk00mNyQ9jjr",
      "execution_count": 14,
      "outputs": [
        {
          "output_type": "stream",
          "name": "stdout",
          "text": [
            "[[1 4]\n",
            " [2 5]\n",
            " [3 6]]\n"
          ]
        }
      ]
    },
    {
      "cell_type": "markdown",
      "source": [
        "4. np.stack(): Bu funksiya massivlarni yangi o'lchamda birlashtiradi. Masalan:"
      ],
      "metadata": {
        "id": "cyJ7hkIL93sy"
      },
      "id": "cyJ7hkIL93sy"
    },
    {
      "cell_type": "code",
      "source": [
        "import numpy as np\n",
        "g = np.array([1, 2, 3])\n",
        "h = np.array([4, 5, 6])\n",
        "stacked = np.stack((g, h), axis=0)  # 0 o'lcham bo'yicha birlashtirish\n",
        "print(stacked)\n",
        "# Natija: [[1 2 3]\n",
        "#          [4 5 6]]"
      ],
      "metadata": {
        "colab": {
          "base_uri": "https://localhost:8080/"
        },
        "id": "1zf87_1E9_3Q",
        "outputId": "c20ffb7c-5ba1-44d7-ea41-b2c7cc3b0ef4"
      },
      "id": "1zf87_1E9_3Q",
      "execution_count": 15,
      "outputs": [
        {
          "output_type": "stream",
          "name": "stdout",
          "text": [
            "[[1 2 3]\n",
            " [4 5 6]]\n"
          ]
        }
      ]
    }
  ],
  "metadata": {
    "hide_input": false,
    "kernelspec": {
      "display_name": "Python 3",
      "language": "python",
      "name": "python3"
    },
    "language_info": {
      "codemirror_mode": {
        "name": "ipython",
        "version": 3
      },
      "file_extension": ".py",
      "mimetype": "text/x-python",
      "name": "python",
      "nbconvert_exporter": "python",
      "pygments_lexer": "ipython3",
      "version": "3.8.8"
    },
    "toc": {
      "base_numbering": 1,
      "nav_menu": {},
      "number_sections": true,
      "sideBar": true,
      "skip_h1_title": false,
      "title_cell": "Table of Contents",
      "title_sidebar": "Contents",
      "toc_cell": false,
      "toc_position": {},
      "toc_section_display": true,
      "toc_window_display": false
    },
    "varInspector": {
      "cols": {
        "lenName": 16,
        "lenType": 16,
        "lenVar": 40
      },
      "kernels_config": {
        "python": {
          "delete_cmd_postfix": "",
          "delete_cmd_prefix": "del ",
          "library": "var_list.py",
          "varRefreshCmd": "print(var_dic_list())"
        },
        "r": {
          "delete_cmd_postfix": ") ",
          "delete_cmd_prefix": "rm(",
          "library": "var_list.r",
          "varRefreshCmd": "cat(var_dic_list()) "
        }
      },
      "types_to_exclude": [
        "module",
        "function",
        "builtin_function_or_method",
        "instance",
        "_Feature"
      ],
      "window_display": false
    },
    "colab": {
      "provenance": [],
      "include_colab_link": true
    }
  },
  "nbformat": 4,
  "nbformat_minor": 5
}